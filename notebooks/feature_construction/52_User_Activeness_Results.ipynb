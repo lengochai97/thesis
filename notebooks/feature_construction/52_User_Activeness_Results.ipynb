{
  "nbformat": 4,
  "nbformat_minor": 0,
  "metadata": {
    "colab": {
      "name": "5.2. User Activeness Results.ipynb",
      "version": "0.3.2",
      "provenance": [],
      "collapsed_sections": [],
      "include_colab_link": true
    },
    "kernelspec": {
      "name": "python3",
      "display_name": "Python 3"
    }
  },
  "cells": [
    {
      "cell_type": "markdown",
      "metadata": {
        "id": "view-in-github",
        "colab_type": "text"
      },
      "source": [
        "<a href=\"https://colab.research.google.com/github/lengochai97/thesis/blob/master/notebooks/feature_construction/52_User_Activeness_Results.ipynb\" target=\"_parent\"><img src=\"https://colab.research.google.com/assets/colab-badge.svg\" alt=\"Open In Colab\"/></a>"
      ]
    },
    {
      "cell_type": "markdown",
      "metadata": {
        "id": "x0S-b63NesNq",
        "colab_type": "text"
      },
      "source": [
        "# Connect to Google Drive"
      ]
    },
    {
      "cell_type": "code",
      "metadata": {
        "id": "mA8N4fsj8cY3",
        "colab_type": "code",
        "colab": {}
      },
      "source": [
        "%%capture\n",
        "\n",
        "import google.colab.drive\n",
        "\n",
        "google.colab.drive.mount('/content/gdrive', force_remount=True)"
      ],
      "execution_count": 0,
      "outputs": []
    },
    {
      "cell_type": "markdown",
      "metadata": {
        "id": "xR1ujuEeedLa",
        "colab_type": "text"
      },
      "source": [
        "# Install Spark and dependencies"
      ]
    },
    {
      "cell_type": "code",
      "metadata": {
        "id": "MzDLzKhZkCIf",
        "colab_type": "code",
        "colab": {}
      },
      "source": [
        "import os\n",
        "\n",
        "os.environ['HADOOP_VERSION'] = '2.7'\n",
        "os.environ['JAVA_HOME'] = '/usr/lib/jvm/java-8-openjdk-amd64'\n",
        "os.environ['SPARK_HOME'] = '/opt/spark'\n",
        "os.environ['SPARK_VERSION'] = '2.4.3'"
      ],
      "execution_count": 0,
      "outputs": []
    },
    {
      "cell_type": "code",
      "metadata": {
        "id": "F6xVWiMvy_cJ",
        "colab_type": "code",
        "colab": {}
      },
      "source": [
        "%%capture\n",
        "\n",
        "!wget -qN https://archive.apache.org/dist/spark/spark-$SPARK_VERSION/spark-$SPARK_VERSION-bin-hadoop$HADOOP_VERSION.tgz\n",
        "!tar -xzf spark-$SPARK_VERSION-bin-hadoop$HADOOP_VERSION.tgz -C /opt\n",
        "!rm spark-$SPARK_VERSION-bin-hadoop$HADOOP_VERSION.tgz\n",
        "!rm -rf /opt/spark\n",
        "!ln -s /opt/spark-$SPARK_VERSION-bin-hadoop$HADOOP_VERSION /opt/spark\n",
        "!pip install -q findspark\n"
      ],
      "execution_count": 0,
      "outputs": []
    },
    {
      "cell_type": "markdown",
      "metadata": {
        "id": "J13MUPQVtZiF",
        "colab_type": "text"
      },
      "source": [
        "# Create SparkSession"
      ]
    },
    {
      "cell_type": "code",
      "metadata": {
        "id": "Q1Bm1_F32y9B",
        "colab_type": "code",
        "colab": {}
      },
      "source": [
        "import findspark\n",
        "\n",
        "findspark.init()"
      ],
      "execution_count": 0,
      "outputs": []
    },
    {
      "cell_type": "code",
      "metadata": {
        "id": "FvrAOXX10VgF",
        "colab_type": "code",
        "colab": {}
      },
      "source": [
        "from pyspark.sql import SparkSession\n",
        "\n",
        "spark = SparkSession.builder.master('local[*]').getOrCreate()"
      ],
      "execution_count": 0,
      "outputs": []
    },
    {
      "cell_type": "markdown",
      "metadata": {
        "id": "5bvBhFdBdgMM",
        "colab_type": "text"
      },
      "source": [
        "# Read files"
      ]
    },
    {
      "cell_type": "code",
      "metadata": {
        "id": "JrW2OQZJ-WEi",
        "colab_type": "code",
        "colab": {}
      },
      "source": [
        "import json\n",
        "\n",
        "import pyspark.sql.functions as F\n",
        "import pyspark.sql.types as T"
      ],
      "execution_count": 0,
      "outputs": []
    },
    {
      "cell_type": "code",
      "metadata": {
        "id": "hYK_GBJsdfnC",
        "colab_type": "code",
        "colab": {}
      },
      "source": [
        "DATA_PATH = '/content/gdrive/My Drive/dataset/adressa/one_week'"
      ],
      "execution_count": 0,
      "outputs": []
    },
    {
      "cell_type": "code",
      "metadata": {
        "id": "6LJdkCIedp1c",
        "colab_type": "code",
        "colab": {}
      },
      "source": [
        "with open(os.path.join(DATA_PATH, 'schema', 'user_activeness.json')) as file:\n",
        "  user_activeness_schema = T.StructType.fromJson(json.load(file))"
      ],
      "execution_count": 0,
      "outputs": []
    },
    {
      "cell_type": "code",
      "metadata": {
        "id": "aQaYCLRkeD19",
        "colab_type": "code",
        "colab": {}
      },
      "source": [
        "df_user_activeness = spark.read.json(os.path.join(DATA_PATH, 'user_activeness'), schema=user_activeness_schema)"
      ],
      "execution_count": 0,
      "outputs": []
    },
    {
      "cell_type": "markdown",
      "metadata": {
        "id": "5Pg2QUMcmB-x",
        "colab_type": "text"
      },
      "source": [
        "# Check results"
      ]
    },
    {
      "cell_type": "code",
      "metadata": {
        "id": "JWFoyUu_eSXA",
        "colab_type": "code",
        "outputId": "8531b591-69b0-4b6c-f076-38282d53f86d",
        "colab": {
          "base_uri": "https://localhost:8080/",
          "height": 459
        }
      },
      "source": [
        "df_user_activeness.show(truncate=False)"
      ],
      "execution_count": 0,
      "outputs": [
        {
          "output_type": "stream",
          "text": [
            "+-------------------------------------------+----------+--------------+\n",
            "|userId                                     |time      |userActiveness|\n",
            "+-------------------------------------------+----------+--------------+\n",
            "|cx:hua808o791zl6cx9:3s9kdckn8su34          |1483225204|0.5           |\n",
            "|cx:221xclq7aa1yx2slhf0xq7svbf:l1m6d375szc  |1483225209|0.5           |\n",
            "|cx:2olo1siax7ic82xivrf9ygayuy:3v1wyr8b7noee|1483225209|0.5           |\n",
            "|cx:ijq4o5e7yj6a8l1o:4p63qy0dhsr4           |1483225222|0.5           |\n",
            "|cx:3s5uucstq9kbzra8l2zlivvng:3i8vbhs9uldg9 |1483225235|0.5           |\n",
            "|cx:i946i2jhoixihtyu:1ad4eauxl3fq7          |1483225239|0.5           |\n",
            "|cx:3d1vemqqmn7403lkoeyrnt0s87:1nicr05d23gcx|1483225243|0.5           |\n",
            "|cx:imqsaoe34rwjbg9g:18dhkqxtl2c3x          |1483225248|0.5           |\n",
            "|cx:ibtqoms9qsyvndlb:cx6zmv3ax3bm           |1483225249|0.5           |\n",
            "|cx:1qqnec12fcm3ccpqwci5eu36v:11o2fc7kej3zs |1483225252|0.5           |\n",
            "|cx:hxqibaks92oi1i6l:1yfkt4566v2oy          |1483225252|0.5           |\n",
            "|cx:35j17o1uzg72rynabz3xz2eh1:6jw6yy8vh712  |1483225253|0.5           |\n",
            "|cx:i37mvrpval41gkba:2xy0m8rdvmnjv          |1483225263|0.5           |\n",
            "|cx:i73miazrm85faff2:25iridql364vf          |1483225263|0.5           |\n",
            "|cx:2pupwc1swnnpp6m0xn88oq11p:253926ixlrps5 |1483225268|0.5           |\n",
            "|cx:x26in0voc3vn298fzti08lm7b:3oflwvnn6rrmx |1483225269|0.5           |\n",
            "|cx:1os7x7xarjmob1yiuwa1qjmtlv:11i7c4dtqbagj|1483225275|0.5           |\n",
            "|cx:ik2y2ijdea0iyr3a:28g2p237n2eis          |1483225280|0.5           |\n",
            "|cx:2x8becyn4mzsw22tq6nsy1sx3d:2sf61k8d1b61g|1483225284|0.5           |\n",
            "|cx:1ti70bwcblw4e1p3hf9pikw1jh:12bvxoxmigh49|1483225286|0.5           |\n",
            "+-------------------------------------------+----------+--------------+\n",
            "only showing top 20 rows\n",
            "\n"
          ],
          "name": "stdout"
        }
      ]
    },
    {
      "cell_type": "markdown",
      "metadata": {
        "colab_type": "text",
        "id": "0tUvzs-zy8PQ"
      },
      "source": [
        "## Number of events"
      ]
    },
    {
      "cell_type": "code",
      "metadata": {
        "colab_type": "code",
        "outputId": "68dc9966-d662-47aa-9679-05192192667e",
        "id": "X3ac_sGAy8Og",
        "colab": {
          "base_uri": "https://localhost:8080/",
          "height": 34
        }
      },
      "source": [
        "df_user_activeness.count()"
      ],
      "execution_count": 0,
      "outputs": [
        {
          "output_type": "execute_result",
          "data": {
            "text/plain": [
              "1226167"
            ]
          },
          "metadata": {
            "tags": []
          },
          "execution_count": 9
        }
      ]
    },
    {
      "cell_type": "markdown",
      "metadata": {
        "id": "gKkwZIoIlo5J",
        "colab_type": "text"
      },
      "source": [
        "## Number of users"
      ]
    },
    {
      "cell_type": "code",
      "metadata": {
        "id": "sy6I_gl9ngmZ",
        "colab_type": "code",
        "outputId": "c8c54373-55e2-4bf5-8f8d-5a5ca6f998af",
        "colab": {
          "base_uri": "https://localhost:8080/",
          "height": 34
        }
      },
      "source": [
        "df_user_activeness.select(F.column('userId')).distinct().count()"
      ],
      "execution_count": 0,
      "outputs": [
        {
          "output_type": "execute_result",
          "data": {
            "text/plain": [
              "252196"
            ]
          },
          "metadata": {
            "tags": []
          },
          "execution_count": 10
        }
      ]
    },
    {
      "cell_type": "markdown",
      "metadata": {
        "id": "RPGVbWcM1Ip_",
        "colab_type": "text"
      },
      "source": [
        "## Statistics"
      ]
    },
    {
      "cell_type": "code",
      "metadata": {
        "id": "3hILVibT0k3K",
        "colab_type": "code",
        "outputId": "ebef2e69-7652-435c-d02c-650e05f94249",
        "colab": {
          "base_uri": "https://localhost:8080/",
          "height": 119
        }
      },
      "source": [
        "(\n",
        "    df_user_activeness\n",
        "    .agg(\n",
        "        F.min(F.column('userActiveness')),\n",
        "        F.max(F.column('userActiveness')),\n",
        "        F.avg(F.column('userActiveness')),\n",
        "    )\n",
        ").show(truncate=False)"
      ],
      "execution_count": 0,
      "outputs": [
        {
          "output_type": "stream",
          "text": [
            "+-------------------+-------------------+-------------------+\n",
            "|min(userActiveness)|max(userActiveness)|avg(userActiveness)|\n",
            "+-------------------+-------------------+-------------------+\n",
            "|0.3203592388104152 |1.0                |0.7504409980895755 |\n",
            "+-------------------+-------------------+-------------------+\n",
            "\n"
          ],
          "name": "stdout"
        }
      ]
    },
    {
      "cell_type": "markdown",
      "metadata": {
        "id": "MUTQWfRUlznG",
        "colab_type": "text"
      },
      "source": [
        "## Disk usage"
      ]
    },
    {
      "cell_type": "code",
      "metadata": {
        "id": "nrvCrZ2990Ep",
        "colab_type": "code",
        "outputId": "0a867a36-9f01-4c4b-a5b2-73e86a3df478",
        "colab": {
          "base_uri": "https://localhost:8080/",
          "height": 34
        }
      },
      "source": [
        "!du -sh /content/gdrive/My\\ Drive/dataset/adressa/one_week/user_activeness"
      ],
      "execution_count": 0,
      "outputs": [
        {
          "output_type": "stream",
          "text": [
            "117M\t/content/gdrive/My Drive/dataset/adressa/one_week/user_activeness\n"
          ],
          "name": "stdout"
        }
      ]
    }
  ]
}