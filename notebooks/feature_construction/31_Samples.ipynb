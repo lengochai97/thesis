{
  "nbformat": 4,
  "nbformat_minor": 0,
  "metadata": {
    "colab": {
      "name": "3.1. Samples.ipynb",
      "version": "0.3.2",
      "provenance": [],
      "collapsed_sections": [],
      "include_colab_link": true
    },
    "kernelspec": {
      "name": "python3",
      "display_name": "Python 3"
    }
  },
  "cells": [
    {
      "cell_type": "markdown",
      "metadata": {
        "id": "view-in-github",
        "colab_type": "text"
      },
      "source": [
        "<a href=\"https://colab.research.google.com/github/lengochai97/thesis/blob/master/notebooks/feature_construction/31_Samples.ipynb\" target=\"_parent\"><img src=\"https://colab.research.google.com/assets/colab-badge.svg\" alt=\"Open In Colab\"/></a>"
      ]
    },
    {
      "cell_type": "markdown",
      "metadata": {
        "id": "x0S-b63NesNq",
        "colab_type": "text"
      },
      "source": [
        "# Connect to Google Drive"
      ]
    },
    {
      "cell_type": "code",
      "metadata": {
        "id": "mA8N4fsj8cY3",
        "colab_type": "code",
        "colab": {}
      },
      "source": [
        "%%capture\n",
        "\n",
        "import google.colab.drive\n",
        "\n",
        "google.colab.drive.mount('/content/gdrive', force_remount=True)"
      ],
      "execution_count": 0,
      "outputs": []
    },
    {
      "cell_type": "markdown",
      "metadata": {
        "id": "xR1ujuEeedLa",
        "colab_type": "text"
      },
      "source": [
        "# Install Spark and dependencies"
      ]
    },
    {
      "cell_type": "code",
      "metadata": {
        "id": "MzDLzKhZkCIf",
        "colab_type": "code",
        "colab": {}
      },
      "source": [
        "import os\n",
        "\n",
        "os.environ['HADOOP_VERSION'] = '2.7'\n",
        "os.environ['JAVA_HOME'] = '/usr/lib/jvm/java-8-openjdk-amd64'\n",
        "os.environ['SPARK_HOME'] = '/opt/spark'\n",
        "os.environ['SPARK_VERSION'] = '2.4.3'"
      ],
      "execution_count": 0,
      "outputs": []
    },
    {
      "cell_type": "code",
      "metadata": {
        "id": "F6xVWiMvy_cJ",
        "colab_type": "code",
        "colab": {}
      },
      "source": [
        "%%capture\n",
        "\n",
        "!wget -qN https://archive.apache.org/dist/spark/spark-$SPARK_VERSION/spark-$SPARK_VERSION-bin-hadoop$HADOOP_VERSION.tgz\n",
        "!tar -xzf spark-$SPARK_VERSION-bin-hadoop$HADOOP_VERSION.tgz -C /opt\n",
        "!rm spark-$SPARK_VERSION-bin-hadoop$HADOOP_VERSION.tgz\n",
        "!rm -rf /opt/spark\n",
        "!ln -s /opt/spark-$SPARK_VERSION-bin-hadoop$HADOOP_VERSION /opt/spark\n",
        "!pip install -q findspark\n"
      ],
      "execution_count": 0,
      "outputs": []
    },
    {
      "cell_type": "markdown",
      "metadata": {
        "id": "J13MUPQVtZiF",
        "colab_type": "text"
      },
      "source": [
        "# Create SparkSession"
      ]
    },
    {
      "cell_type": "code",
      "metadata": {
        "id": "Q1Bm1_F32y9B",
        "colab_type": "code",
        "colab": {}
      },
      "source": [
        "import findspark\n",
        "\n",
        "findspark.init()"
      ],
      "execution_count": 0,
      "outputs": []
    },
    {
      "cell_type": "code",
      "metadata": {
        "id": "FvrAOXX10VgF",
        "colab_type": "code",
        "colab": {}
      },
      "source": [
        "from pyspark.sql import SparkSession\n",
        "\n",
        "spark = SparkSession.builder.master('local[*]').getOrCreate()"
      ],
      "execution_count": 0,
      "outputs": []
    },
    {
      "cell_type": "markdown",
      "metadata": {
        "id": "prqau8VXte6Y",
        "colab_type": "text"
      },
      "source": [
        "# Read files"
      ]
    },
    {
      "cell_type": "code",
      "metadata": {
        "id": "8ysJ4Y_AyyDb",
        "colab_type": "code",
        "colab": {}
      },
      "source": [
        "import json\n",
        "\n",
        "import pyspark.sql.functions as F\n",
        "import pyspark.sql.types as T"
      ],
      "execution_count": 0,
      "outputs": []
    },
    {
      "cell_type": "code",
      "metadata": {
        "id": "qq9HvJveywV1",
        "colab_type": "code",
        "colab": {}
      },
      "source": [
        "DATA_PATH = '/content/gdrive/My Drive/dataset/adressa/one_week'"
      ],
      "execution_count": 0,
      "outputs": []
    },
    {
      "cell_type": "code",
      "metadata": {
        "id": "l7TLuM13yz_t",
        "colab_type": "code",
        "colab": {}
      },
      "source": [
        "with open(os.path.join(DATA_PATH, 'schema', 'clean.json')) as file:\n",
        "  clean_schema = T.StructType.fromJson(json.load(file))"
      ],
      "execution_count": 0,
      "outputs": []
    },
    {
      "cell_type": "code",
      "metadata": {
        "id": "SMSRUZnsy7vH",
        "colab_type": "code",
        "colab": {}
      },
      "source": [
        "df_clean = spark.read.json(os.path.join(DATA_PATH, 'clean'), schema=clean_schema)"
      ],
      "execution_count": 0,
      "outputs": []
    },
    {
      "cell_type": "code",
      "metadata": {
        "id": "nLn0VVktCtmW",
        "colab_type": "code",
        "colab": {}
      },
      "source": [
        "with open(os.path.join(DATA_PATH, 'schema', 'news_features.json')) as file:\n",
        "  news_features_schema = T.StructType.fromJson(json.load(file))"
      ],
      "execution_count": 0,
      "outputs": []
    },
    {
      "cell_type": "code",
      "metadata": {
        "id": "hXos0JiOC8n9",
        "colab_type": "code",
        "colab": {}
      },
      "source": [
        "df_news_features = spark.read.json(os.path.join(DATA_PATH, 'news_features'), schema=clean_schema)"
      ],
      "execution_count": 0,
      "outputs": []
    },
    {
      "cell_type": "markdown",
      "metadata": {
        "id": "zIMDaKwhE4H3",
        "colab_type": "text"
      },
      "source": [
        "# Construct samples"
      ]
    },
    {
      "cell_type": "code",
      "metadata": {
        "id": "8uBH6mwJX7OR",
        "colab_type": "code",
        "colab": {}
      },
      "source": [
        "TIME_BUCKET_RANGE = 60"
      ],
      "execution_count": 0,
      "outputs": []
    },
    {
      "cell_type": "code",
      "metadata": {
        "id": "Vg1uxeI15w8V",
        "colab_type": "code",
        "colab": {}
      },
      "source": [
        "df_event = (\n",
        "    df_clean\n",
        "    .select(\n",
        "        F.column('userId'),\n",
        "        F.column('time'),\n",
        "        (F.column('time') / TIME_BUCKET_RANGE).cast(T.LongType()).alias('timeBucket'),\n",
        "        F.column('newsId'),\n",
        "    )\n",
        ")"
      ],
      "execution_count": 0,
      "outputs": []
    },
    {
      "cell_type": "markdown",
      "metadata": {
        "id": "b24fpy4AQSAy",
        "colab_type": "text"
      },
      "source": [
        "## Click"
      ]
    },
    {
      "cell_type": "code",
      "metadata": {
        "id": "iktdI2HMN3ni",
        "colab_type": "code",
        "colab": {}
      },
      "source": [
        "df_sample_click = (\n",
        "    df_event\n",
        "    .select(\n",
        "        F.column('userId'),\n",
        "        F.column('time'),\n",
        "        F.column('newsId'),\n",
        "        F.lit(1).alias('clickLabel'),\n",
        "    )\n",
        ")"
      ],
      "execution_count": 0,
      "outputs": []
    },
    {
      "cell_type": "markdown",
      "metadata": {
        "id": "B_MyxyujQXeG",
        "colab_type": "text"
      },
      "source": [
        "## No-Click"
      ]
    },
    {
      "cell_type": "code",
      "metadata": {
        "colab_type": "code",
        "id": "80zCnb34CFBq",
        "colab": {}
      },
      "source": [
        "from pyspark.ml.feature import IndexToString, StringIndexer\n",
        "from pyspark.sql import Window"
      ],
      "execution_count": 0,
      "outputs": []
    },
    {
      "cell_type": "code",
      "metadata": {
        "colab_type": "code",
        "id": "8COsWKprCFBj",
        "colab": {}
      },
      "source": [
        "news_id_indexer = (\n",
        "    StringIndexer(\n",
        "        inputCol='newsId',\n",
        "        outputCol='newsIdIndexed',\n",
        "        stringOrderType='alphabetAsc',\n",
        "    )\n",
        "    .fit(df_news_features.select(F.column('newsId')))\n",
        ")\n",
        "\n",
        "news_id_indexer_converter = (\n",
        "    IndexToString(\n",
        "        inputCol='newsIdIndexed',\n",
        "        outputCol='newsId',\n",
        "        labels=news_id_indexer.labels,\n",
        "    )\n",
        ")"
      ],
      "execution_count": 0,
      "outputs": []
    },
    {
      "cell_type": "code",
      "metadata": {
        "id": "Hqx2hZphXYjC",
        "colab_type": "code",
        "colab": {}
      },
      "source": [
        "df_click_list = (\n",
        "    news_id_indexer\n",
        "    .transform(df_event)\n",
        "    .groupBy(F.column('userId'))\n",
        "    .agg(F.collect_set(F.column('newsIdIndexed')).alias('clickList'))\n",
        ")"
      ],
      "execution_count": 0,
      "outputs": []
    },
    {
      "cell_type": "code",
      "metadata": {
        "id": "AC6stgBOQA4-",
        "colab_type": "code",
        "colab": {}
      },
      "source": [
        "df_candidate_list = (\n",
        "    news_id_indexer\n",
        "    .transform(df_event)\n",
        "    .groupBy(F.column('timeBucket'))\n",
        "    .agg(F.collect_set(F.column('newsIdIndexed')).alias('newsIdIndexedList'))\n",
        "    .withColumn(\n",
        "        'pastList',\n",
        "        F.collect_list(F.column('newsIdIndexedList')).over(\n",
        "            Window\n",
        "            .orderBy('timeBucket')\n",
        "            .rangeBetween(Window.unboundedPreceding, -1)\n",
        "        ),\n",
        "    )\n",
        "    .withColumn(\n",
        "        'pastList',\n",
        "        F.array_distinct(F.flatten(F.column('pastList'))),\n",
        "    )\n",
        "    .withColumn(\n",
        "        'futureList',\n",
        "        F.collect_list(F.column('newsIdIndexedList')).over(\n",
        "            Window\n",
        "            .orderBy('timeBucket')\n",
        "            .rangeBetween(1, Window.unboundedFollowing)\n",
        "        ),\n",
        "    )\n",
        "    .withColumn(\n",
        "        'futureList',\n",
        "        F.array_distinct(F.flatten(F.column('futureList'))),\n",
        "    )\n",
        "    .repartitionByRange(F.column('timeBucket'))\n",
        "    .withColumn(\n",
        "        'candidateList',\n",
        "        F.array_intersect(F.column('pastList'), F.column('futureList')),\n",
        "    )\n",
        "    .select(\n",
        "        F.column('timeBucket'),\n",
        "        F.column('candidateList'),\n",
        "    )\n",
        ")"
      ],
      "execution_count": 0,
      "outputs": []
    },
    {
      "cell_type": "code",
      "metadata": {
        "id": "md2OAYHAYsS_",
        "colab_type": "code",
        "colab": {}
      },
      "source": [
        "df_sample_no_click = (\n",
        "    df_event\n",
        "    .select(\n",
        "        F.column('userId'),\n",
        "        F.column('time'),\n",
        "        F.column('timeBucket'),\n",
        "    )\n",
        "    .join(df_click_list, on='userId', how='inner')\n",
        "    .join(df_candidate_list, on='timeBucket', how='inner')\n",
        "    .withColumn(\n",
        "        'noClickList',\n",
        "        F.array_except(F.column('candidateList'), F.column('clickList')),\n",
        "    )\n",
        "    .withColumn(\n",
        "        'noClickList',\n",
        "        F.shuffle(F.column('noClickList')),\n",
        "    )\n",
        "    .withColumn(\n",
        "        'noClickList',\n",
        "        F.slice(F.column('noClickList'), 1, 11),\n",
        "    )\n",
        "    .withColumn(\n",
        "        'newsIdIndexed',\n",
        "        F.explode('noClickList'),\n",
        "    )\n",
        "    .select(\n",
        "        F.column('userId'),\n",
        "        F.column('time'),\n",
        "        F.column('newsIdIndexed'),\n",
        "    )\n",
        ")\n",
        "\n",
        "df_sample_no_click = (\n",
        "    news_id_indexer_converter\n",
        "    .transform(df_sample_no_click)\n",
        "    .select(\n",
        "        F.column('userId'),\n",
        "        F.column('time'),\n",
        "        F.column('newsId'),\n",
        "        F.lit(0).alias('clickLabel'),\n",
        "    )\n",
        ")"
      ],
      "execution_count": 0,
      "outputs": []
    },
    {
      "cell_type": "markdown",
      "metadata": {
        "id": "A56cBBZqQaab",
        "colab_type": "text"
      },
      "source": [
        "## Union"
      ]
    },
    {
      "cell_type": "code",
      "metadata": {
        "id": "LOkcfJCFO7-_",
        "colab_type": "code",
        "colab": {}
      },
      "source": [
        "df_sample = df_sample_click.union(df_sample_no_click)"
      ],
      "execution_count": 0,
      "outputs": []
    },
    {
      "cell_type": "markdown",
      "metadata": {
        "id": "4CJZYK0qftzm",
        "colab_type": "text"
      },
      "source": [
        "# Write files"
      ]
    },
    {
      "cell_type": "code",
      "metadata": {
        "id": "m8xswN6JPN0P",
        "colab_type": "code",
        "colab": {}
      },
      "source": [
        "df_sample = (\n",
        "    df_sample\n",
        "    .repartition(F.column('userId'), F.column('time'))\n",
        "    .sortWithinPartitions(\n",
        "        F.column('time'),\n",
        "        F.column('userId'),\n",
        "        F.column('clickLabel'),\n",
        "        F.column('newsId'),\n",
        "        ascending=[True, True, False, True],\n",
        "    )\n",
        ")"
      ],
      "execution_count": 0,
      "outputs": []
    },
    {
      "cell_type": "code",
      "metadata": {
        "id": "S5pEYFRHfwyq",
        "colab_type": "code",
        "outputId": "d0cc0da2-261d-4bc2-a12e-b23396ced363",
        "colab": {
          "base_uri": "https://localhost:8080/",
          "height": 51
        }
      },
      "source": [
        "%%time\n",
        "\n",
        "df_sample.write.json(os.path.join(DATA_PATH, 'samples'))"
      ],
      "execution_count": 0,
      "outputs": [
        {
          "output_type": "stream",
          "text": [
            "CPU times: user 76.6 ms, sys: 18.9 ms, total: 95.4 ms\n",
            "Wall time: 7min 10s\n"
          ],
          "name": "stdout"
        }
      ]
    },
    {
      "cell_type": "code",
      "metadata": {
        "id": "GZGuHR1GR35Y",
        "colab_type": "code",
        "colab": {}
      },
      "source": [
        "with open(os.path.join(DATA_PATH, 'schema', 'samples.json'), 'w+') as file:\n",
        "  json.dump(df_sample.schema.jsonValue(), file)"
      ],
      "execution_count": 0,
      "outputs": []
    }
  ]
}