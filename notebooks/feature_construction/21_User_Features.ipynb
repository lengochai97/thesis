{
  "nbformat": 4,
  "nbformat_minor": 0,
  "metadata": {
    "colab": {
      "name": "2.1. User Features.ipynb",
      "version": "0.3.2",
      "provenance": [],
      "collapsed_sections": [],
      "include_colab_link": true
    },
    "kernelspec": {
      "name": "python3",
      "display_name": "Python 3"
    }
  },
  "cells": [
    {
      "cell_type": "markdown",
      "metadata": {
        "id": "view-in-github",
        "colab_type": "text"
      },
      "source": [
        "<a href=\"https://colab.research.google.com/github/lengochai97/thesis/blob/master/notebooks/feature_construction/21_User_Features.ipynb\" target=\"_parent\"><img src=\"https://colab.research.google.com/assets/colab-badge.svg\" alt=\"Open In Colab\"/></a>"
      ]
    },
    {
      "cell_type": "markdown",
      "metadata": {
        "id": "x0S-b63NesNq",
        "colab_type": "text"
      },
      "source": [
        "# Connect to Google Drive"
      ]
    },
    {
      "cell_type": "code",
      "metadata": {
        "id": "mA8N4fsj8cY3",
        "colab_type": "code",
        "colab": {}
      },
      "source": [
        "%%capture\n",
        "\n",
        "import google.colab.drive\n",
        "\n",
        "google.colab.drive.mount('/content/gdrive', force_remount=True)"
      ],
      "execution_count": 0,
      "outputs": []
    },
    {
      "cell_type": "markdown",
      "metadata": {
        "id": "xR1ujuEeedLa",
        "colab_type": "text"
      },
      "source": [
        "# Install Spark and dependencies"
      ]
    },
    {
      "cell_type": "code",
      "metadata": {
        "id": "MzDLzKhZkCIf",
        "colab_type": "code",
        "colab": {}
      },
      "source": [
        "import os\n",
        "\n",
        "os.environ['HADOOP_VERSION'] = '2.7'\n",
        "os.environ['JAVA_HOME'] = '/usr/lib/jvm/java-8-openjdk-amd64'\n",
        "os.environ['SPARK_HOME'] = '/opt/spark'\n",
        "os.environ['SPARK_VERSION'] = '2.4.3'"
      ],
      "execution_count": 0,
      "outputs": []
    },
    {
      "cell_type": "code",
      "metadata": {
        "id": "F6xVWiMvy_cJ",
        "colab_type": "code",
        "colab": {}
      },
      "source": [
        "%%capture\n",
        "\n",
        "!wget -qN https://archive.apache.org/dist/spark/spark-$SPARK_VERSION/spark-$SPARK_VERSION-bin-hadoop$HADOOP_VERSION.tgz\n",
        "!tar -xzf spark-$SPARK_VERSION-bin-hadoop$HADOOP_VERSION.tgz -C /opt\n",
        "!rm spark-$SPARK_VERSION-bin-hadoop$HADOOP_VERSION.tgz\n",
        "!rm -rf /opt/spark\n",
        "!ln -s /opt/spark-$SPARK_VERSION-bin-hadoop$HADOOP_VERSION /opt/spark\n",
        "!pip install -q findspark"
      ],
      "execution_count": 0,
      "outputs": []
    },
    {
      "cell_type": "markdown",
      "metadata": {
        "id": "J13MUPQVtZiF",
        "colab_type": "text"
      },
      "source": [
        "# Create SparkSession"
      ]
    },
    {
      "cell_type": "code",
      "metadata": {
        "id": "Q1Bm1_F32y9B",
        "colab_type": "code",
        "colab": {}
      },
      "source": [
        "import findspark\n",
        "\n",
        "findspark.init()"
      ],
      "execution_count": 0,
      "outputs": []
    },
    {
      "cell_type": "code",
      "metadata": {
        "id": "FvrAOXX10VgF",
        "colab_type": "code",
        "colab": {}
      },
      "source": [
        "from pyspark.sql import SparkSession\n",
        "\n",
        "spark = SparkSession.builder.master('local[*]').getOrCreate()"
      ],
      "execution_count": 0,
      "outputs": []
    },
    {
      "cell_type": "markdown",
      "metadata": {
        "id": "prqau8VXte6Y",
        "colab_type": "text"
      },
      "source": [
        "# Read files"
      ]
    },
    {
      "cell_type": "code",
      "metadata": {
        "id": "9N01P5dpt7WL",
        "colab_type": "code",
        "colab": {}
      },
      "source": [
        "import json\n",
        "\n",
        "import pyspark.sql.functions as F\n",
        "import pyspark.sql.types as T"
      ],
      "execution_count": 0,
      "outputs": []
    },
    {
      "cell_type": "code",
      "metadata": {
        "id": "FgDTqViztjj-",
        "colab_type": "code",
        "colab": {}
      },
      "source": [
        "DATA_PATH = '/content/gdrive/My Drive/dataset/adressa/one_week'"
      ],
      "execution_count": 0,
      "outputs": []
    },
    {
      "cell_type": "code",
      "metadata": {
        "id": "KEMZnRVZsroz",
        "colab_type": "code",
        "colab": {}
      },
      "source": [
        "with open(os.path.join(DATA_PATH, 'schema', 'clean.json')) as file:\n",
        "  clean_schema = T.StructType.fromJson(json.load(file))"
      ],
      "execution_count": 0,
      "outputs": []
    },
    {
      "cell_type": "code",
      "metadata": {
        "id": "QrIGpP2gl_Ta",
        "colab_type": "code",
        "colab": {}
      },
      "source": [
        "df_clean = spark.read.json(os.path.join(DATA_PATH, 'clean'), schema=clean_schema)"
      ],
      "execution_count": 0,
      "outputs": []
    },
    {
      "cell_type": "code",
      "metadata": {
        "id": "rpzUzrFL1VAq",
        "colab_type": "code",
        "colab": {}
      },
      "source": [
        "with open(os.path.join(DATA_PATH, 'schema', 'news_features.json')) as file:\n",
        "  news_features_schema = T.StructType.fromJson(json.load(file))"
      ],
      "execution_count": 0,
      "outputs": []
    },
    {
      "cell_type": "code",
      "metadata": {
        "id": "jv87jv3Z1-Ry",
        "colab_type": "code",
        "colab": {}
      },
      "source": [
        "df_news_features = spark.read.json(os.path.join(DATA_PATH, 'news_features'), schema=news_features_schema)"
      ],
      "execution_count": 0,
      "outputs": []
    },
    {
      "cell_type": "markdown",
      "metadata": {
        "id": "v3FA1-bmkXGV",
        "colab_type": "text"
      },
      "source": [
        "# Construct user features"
      ]
    },
    {
      "cell_type": "code",
      "metadata": {
        "id": "FNZ_LZalhdKH",
        "colab_type": "code",
        "colab": {}
      },
      "source": [
        "df_event = (\n",
        "    df_clean\n",
        "    .select(\n",
        "        F.column('userId'),\n",
        "        F.column('time'),\n",
        "        F.column('newsId'),\n",
        "    )\n",
        "    .join(\n",
        "        df_news_features\n",
        "        .select(\n",
        "            F.column('newsId'),\n",
        "            F.column('categoryList'),\n",
        "        ),\n",
        "        on='newsId',\n",
        "        how='inner',\n",
        "    )\n",
        ")"
      ],
      "execution_count": 0,
      "outputs": []
    },
    {
      "cell_type": "code",
      "metadata": {
        "id": "JmnC3jz_fQks",
        "colab_type": "code",
        "colab": {}
      },
      "source": [
        "from pyspark.sql import Window"
      ],
      "execution_count": 0,
      "outputs": []
    },
    {
      "cell_type": "code",
      "metadata": {
        "id": "cCjZXIqJcScw",
        "colab_type": "code",
        "colab": {}
      },
      "source": [
        "def build_user_profile(df_event, time_tag, time_delta):\n",
        "  df_user_profile = (\n",
        "      df_event\n",
        "      .withColumn(\n",
        "          'categoryListList',\n",
        "          F.collect_list(F.column('categoryList')).over(\n",
        "              Window\n",
        "              .partitionBy('userId')\n",
        "              .orderBy('time')\n",
        "              .rangeBetween(-time_delta, -1)\n",
        "          ),\n",
        "      )\n",
        "      .withColumn(\n",
        "          f'userClickCount{time_tag}',\n",
        "          F.size(F.column('categoryListList')),\n",
        "      )\n",
        "      .withColumn(\n",
        "          f'categoryList{time_tag}',\n",
        "          F.array_distinct(F.flatten(F.column('categoryListList'))),\n",
        "      )\n",
        "      .select(\n",
        "          F.column('userId'),\n",
        "          F.column('time'),\n",
        "          F.column(f'userClickCount{time_tag}'),\n",
        "          F.column(f'categoryList{time_tag}'),\n",
        "      )\n",
        "  )\n",
        "  \n",
        "  return df_user_profile"
      ],
      "execution_count": 0,
      "outputs": []
    },
    {
      "cell_type": "code",
      "metadata": {
        "id": "gyWJeFm4j_Ix",
        "colab_type": "code",
        "colab": {}
      },
      "source": [
        "def build_user_history(df_event):\n",
        "  df_user_history = (\n",
        "      df_event\n",
        "      .withColumn(\n",
        "          'categoryListList',\n",
        "          F.collect_list(F.column('categoryList')).over(\n",
        "              Window\n",
        "              .partitionBy('userId')\n",
        "              .orderBy('time')\n",
        "              .rangeBetween(Window.unboundedPreceding, -1)\n",
        "          ),\n",
        "      )\n",
        "      .withColumn(\n",
        "          'categoryListHistory',\n",
        "          F.flatten(F.column('categoryListList')),\n",
        "      )\n",
        "      .select(\n",
        "          F.column('userId'),\n",
        "          F.column('time'),\n",
        "          F.column('categoryListHistory'),\n",
        "      )\n",
        "  )\n",
        "  \n",
        "  return df_user_history"
      ],
      "execution_count": 0,
      "outputs": []
    },
    {
      "cell_type": "code",
      "metadata": {
        "id": "f2O5GtR63ZC8",
        "colab_type": "code",
        "colab": {}
      },
      "source": [
        "time_info = (\n",
        "    ('1H', 3600),\n",
        "    ('6H', 21600),\n",
        "    ('1D', 86400),\n",
        "    ('1W', 604800),\n",
        ")"
      ],
      "execution_count": 0,
      "outputs": []
    },
    {
      "cell_type": "code",
      "metadata": {
        "id": "-woSSqzRlp5n",
        "colab_type": "code",
        "colab": {}
      },
      "source": [
        "df_user_features = (\n",
        "    df_event\n",
        "    .select(\n",
        "        F.column('userId'),\n",
        "        F.column('time'),\n",
        "    )\n",
        ")\n",
        "\n",
        "for time_tag, time_delta in time_info:\n",
        "  df_user_features = (\n",
        "      df_user_features\n",
        "      .join(\n",
        "          build_user_profile(df_event, time_tag, time_delta),\n",
        "          on=['userId', 'time'],\n",
        "          how='inner',\n",
        "      )\n",
        "  )\n",
        "\n",
        "df_user_features = (\n",
        "    df_user_features\n",
        "    .join(\n",
        "        build_user_history(df_event),\n",
        "        on=['userId', 'time'],\n",
        "        how='inner',\n",
        "    )\n",
        ")"
      ],
      "execution_count": 0,
      "outputs": []
    },
    {
      "cell_type": "markdown",
      "metadata": {
        "id": "Mp6Q8NTtkSiI",
        "colab_type": "text"
      },
      "source": [
        "# Write files"
      ]
    },
    {
      "cell_type": "code",
      "metadata": {
        "id": "qiGHCktyznBO",
        "colab_type": "code",
        "colab": {}
      },
      "source": [
        "df_user_features = (\n",
        "    df_user_features\n",
        "    .repartition(F.column('userId'))\n",
        "    .sortWithinPartitions(\n",
        "        F.column('time'),\n",
        "        F.column('userId'),\n",
        "    )\n",
        ")"
      ],
      "execution_count": 0,
      "outputs": []
    },
    {
      "cell_type": "code",
      "metadata": {
        "id": "rIohkVXsK2c3",
        "colab_type": "code",
        "outputId": "019e040a-26f7-4c00-f74f-98c48e1bbd81",
        "colab": {
          "base_uri": "https://localhost:8080/",
          "height": 51
        }
      },
      "source": [
        "%%time\n",
        "\n",
        "df_user_features.write.json(os.path.join(DATA_PATH, 'user_features'))"
      ],
      "execution_count": 0,
      "outputs": [
        {
          "output_type": "stream",
          "text": [
            "CPU times: user 23.2 ms, sys: 5.46 ms, total: 28.6 ms\n",
            "Wall time: 2min 11s\n"
          ],
          "name": "stdout"
        }
      ]
    },
    {
      "cell_type": "code",
      "metadata": {
        "id": "gWPFBmMxLE8X",
        "colab_type": "code",
        "colab": {}
      },
      "source": [
        "with open(os.path.join(DATA_PATH, 'schema', 'user_features.json'), 'w+') as file:\n",
        "  json.dump(df_user_features.schema.jsonValue(), file)"
      ],
      "execution_count": 0,
      "outputs": []
    }
  ]
}