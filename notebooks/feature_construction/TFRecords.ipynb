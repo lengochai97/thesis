{
  "nbformat": 4,
  "nbformat_minor": 0,
  "metadata": {
    "colab": {
      "name": "TFRecords.ipynb",
      "version": "0.3.2",
      "provenance": [],
      "collapsed_sections": [],
      "include_colab_link": true
    },
    "kernelspec": {
      "name": "python3",
      "display_name": "Python 3"
    },
    "accelerator": "GPU"
  },
  "cells": [
    {
      "cell_type": "markdown",
      "metadata": {
        "id": "view-in-github",
        "colab_type": "text"
      },
      "source": [
        "<a href=\"https://colab.research.google.com/github/lengochai97/thesis/blob/master/notebooks/feature_construction/TFRecords.ipynb\" target=\"_parent\"><img src=\"https://colab.research.google.com/assets/colab-badge.svg\" alt=\"Open In Colab\"/></a>"
      ]
    },
    {
      "cell_type": "markdown",
      "metadata": {
        "id": "x0S-b63NesNq",
        "colab_type": "text"
      },
      "source": [
        "# Connect to Google Drive"
      ]
    },
    {
      "cell_type": "code",
      "metadata": {
        "colab_type": "code",
        "id": "OvOnUPm7oWVD",
        "colab": {}
      },
      "source": [
        "%%capture\n",
        "\n",
        "import google.colab.drive\n",
        "\n",
        "google.colab.drive.mount('/content/gdrive', force_remount=True)"
      ],
      "execution_count": 0,
      "outputs": []
    },
    {
      "cell_type": "markdown",
      "metadata": {
        "id": "wdypl0USoa6h",
        "colab_type": "text"
      },
      "source": [
        "# Import and define"
      ]
    },
    {
      "cell_type": "code",
      "metadata": {
        "colab_type": "code",
        "id": "r2DFplb_jFu4",
        "colab": {}
      },
      "source": [
        "import glob\n",
        "import json\n",
        "import os\n",
        "\n",
        "import numpy as np\n",
        "import tensorflow as tf\n",
        "import tqdm"
      ],
      "execution_count": 0,
      "outputs": []
    },
    {
      "cell_type": "code",
      "metadata": {
        "colab_type": "code",
        "id": "j2VvMkr1jFuV",
        "colab": {}
      },
      "source": [
        "def int64_feature(value):\n",
        "  return tf.train.Feature(int64_list=tf.train.Int64List(value=[value]))\n",
        "\n",
        "def float_feature(value):\n",
        "  return tf.train.Feature(float_list=tf.train.FloatList(value=[value]))\n",
        "\n",
        "def vector_feature(vector):\n",
        "  if vector.get('size') is not None:\n",
        "    value = np.zeros(vector['size'])\n",
        "    value[vector['indices']] = vector['values']\n",
        "    value = value.tolist()\n",
        "  else:\n",
        "    value = vector['values']\n",
        "  return tf.train.Feature(float_list=tf.train.FloatList(value=value))\n",
        "\n",
        "def serialize_example(example):\n",
        "  feature = {\n",
        "      'eventId': int64_feature(example['eventId']),\n",
        "      'clickLabel': int64_feature(example['clickLabel']),\n",
        "      'userActiveness': float_feature(example['userActiveness']),\n",
        "      'categoryVector': vector_feature(example['categoryVector']),\n",
        "      'newsClickCountVector': vector_feature(example['newsClickCountVector']),\n",
        "      'contextVector': vector_feature(example['contextVector']),\n",
        "      'userHistoryVector': vector_feature(example['userHistoryVector']),\n",
        "      'userProfileVector': vector_feature(example['userProfileVector']),\n",
        "      'userClickCountVector': vector_feature(example['userClickCountVector']),\n",
        "      'userHistoryVectorNext': vector_feature(example['userHistoryVectorNext']),\n",
        "      'userProfileVectorNext': vector_feature(example['userProfileVectorNext']),\n",
        "      'userClickCountVectorNext': vector_feature(example['userClickCountVectorNext']),\n",
        "  }\n",
        "  \n",
        "  example_proto = tf.train.Example(features=tf.train.Features(feature=feature))\n",
        "  return example_proto.SerializeToString()"
      ],
      "execution_count": 0,
      "outputs": []
    },
    {
      "cell_type": "markdown",
      "metadata": {
        "id": "hPy_LANYouO8",
        "colab_type": "text"
      },
      "source": [
        "# Convert `JSON` files to `TFRecords`"
      ]
    },
    {
      "cell_type": "code",
      "metadata": {
        "id": "NImwauAYIHh_",
        "colab_type": "code",
        "colab": {}
      },
      "source": [
        "DATA_PATH = '/content/gdrive/My Drive/dataset/adressa/one_week'"
      ],
      "execution_count": 0,
      "outputs": []
    },
    {
      "cell_type": "code",
      "metadata": {
        "id": "kZ9VCBFvq8SQ",
        "colab_type": "code",
        "colab": {}
      },
      "source": [
        "train_filepaths = sorted(glob.glob(os.path.join(DATA_PATH, 'all_features', 'train', 'part*.json')))"
      ],
      "execution_count": 0,
      "outputs": []
    },
    {
      "cell_type": "code",
      "metadata": {
        "id": "IWoRg0lLNngP",
        "colab_type": "code",
        "outputId": "1535b4d4-b8bb-40d6-822a-1004bb56fb25",
        "colab": {
          "base_uri": "https://localhost:8080/",
          "height": 34
        }
      },
      "source": [
        "train_size = 0\n",
        "\n",
        "for filepath in tqdm.tqdm(train_filepaths):\n",
        "  filename = filepath.split('/')[-1].split('.')[0]\n",
        "  with tf.io.TFRecordWriter(os.path.join(DATA_PATH, 'tfrecords', 'train', filename), 'GZIP') as writer, open(filepath) as file:\n",
        "    for row in file:\n",
        "      writer.write(serialize_example(json.loads(row)))\n",
        "      train_size += 1"
      ],
      "execution_count": 0,
      "outputs": [
        {
          "output_type": "stream",
          "text": [
            "100%|██████████| 200/200 [53:07<00:00, 16.37s/it]\n"
          ],
          "name": "stderr"
        }
      ]
    },
    {
      "cell_type": "code",
      "metadata": {
        "id": "xETmSCH5QLyM",
        "colab_type": "code",
        "outputId": "0e907282-7028-41dc-c9ec-464b53f8c341",
        "colab": {
          "base_uri": "https://localhost:8080/",
          "height": 34
        }
      },
      "source": [
        "train_size"
      ],
      "execution_count": 0,
      "outputs": [
        {
          "output_type": "execute_result",
          "data": {
            "text/plain": [
              "12915691"
            ]
          },
          "metadata": {
            "tags": []
          },
          "execution_count": 30
        }
      ]
    },
    {
      "cell_type": "code",
      "metadata": {
        "id": "VhiYmZ5Yydap",
        "colab_type": "code",
        "colab": {}
      },
      "source": [
        "test_filepaths = sorted(glob.glob(os.path.join(DATA_PATH, 'all_features', 'test', 'part*.json')))"
      ],
      "execution_count": 0,
      "outputs": []
    },
    {
      "cell_type": "code",
      "metadata": {
        "id": "tTo7OeH6yftJ",
        "colab_type": "code",
        "outputId": "c0898389-e77a-4cdd-b586-cc21343e391a",
        "colab": {
          "base_uri": "https://localhost:8080/",
          "height": 34
        }
      },
      "source": [
        "test_size = 0\n",
        "\n",
        "for filepath in tqdm.tqdm(test_filepaths):\n",
        "  filename = filepath.split('/')[-1].split('.')[0]\n",
        "  with tf.io.TFRecordWriter(os.path.join(DATA_PATH, 'tfrecords', 'test', filename), 'GZIP') as writer, open(filepath) as file:\n",
        "    for row in file:\n",
        "      writer.write(serialize_example(json.loads(row)))\n",
        "      test_size += 1"
      ],
      "execution_count": 0,
      "outputs": [
        {
          "output_type": "stream",
          "text": [
            "100%|██████████| 200/200 [07:17<00:00,  2.20s/it]\n"
          ],
          "name": "stderr"
        }
      ]
    },
    {
      "cell_type": "code",
      "metadata": {
        "id": "ylDR3klMQRac",
        "colab_type": "code",
        "outputId": "d2bed1f7-f7cd-42da-e829-ef31784add39",
        "colab": {
          "base_uri": "https://localhost:8080/",
          "height": 34
        }
      },
      "source": [
        "test_size"
      ],
      "execution_count": 0,
      "outputs": [
        {
          "output_type": "execute_result",
          "data": {
            "text/plain": [
              "1796331"
            ]
          },
          "metadata": {
            "tags": []
          },
          "execution_count": 33
        }
      ]
    }
  ]
}