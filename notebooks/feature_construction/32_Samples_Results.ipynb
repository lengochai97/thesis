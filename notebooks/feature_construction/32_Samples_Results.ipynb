{
  "nbformat": 4,
  "nbformat_minor": 0,
  "metadata": {
    "colab": {
      "name": "3.2. Samples Results.ipynb",
      "version": "0.3.2",
      "provenance": [],
      "collapsed_sections": [],
      "include_colab_link": true
    },
    "kernelspec": {
      "name": "python3",
      "display_name": "Python 3"
    }
  },
  "cells": [
    {
      "cell_type": "markdown",
      "metadata": {
        "id": "view-in-github",
        "colab_type": "text"
      },
      "source": [
        "<a href=\"https://colab.research.google.com/github/lengochai97/thesis/blob/master/notebooks/feature_construction/32_Samples_Results.ipynb\" target=\"_parent\"><img src=\"https://colab.research.google.com/assets/colab-badge.svg\" alt=\"Open In Colab\"/></a>"
      ]
    },
    {
      "cell_type": "markdown",
      "metadata": {
        "id": "x0S-b63NesNq",
        "colab_type": "text"
      },
      "source": [
        "# Connect to Google Drive"
      ]
    },
    {
      "cell_type": "code",
      "metadata": {
        "id": "mA8N4fsj8cY3",
        "colab_type": "code",
        "colab": {}
      },
      "source": [
        "%%capture\n",
        "\n",
        "import google.colab.drive\n",
        "\n",
        "google.colab.drive.mount('/content/gdrive', force_remount=True)"
      ],
      "execution_count": 0,
      "outputs": []
    },
    {
      "cell_type": "markdown",
      "metadata": {
        "id": "xR1ujuEeedLa",
        "colab_type": "text"
      },
      "source": [
        "# Install Spark and dependencies"
      ]
    },
    {
      "cell_type": "code",
      "metadata": {
        "id": "MzDLzKhZkCIf",
        "colab_type": "code",
        "colab": {}
      },
      "source": [
        "import os\n",
        "\n",
        "os.environ['HADOOP_VERSION'] = '2.7'\n",
        "os.environ['JAVA_HOME'] = '/usr/lib/jvm/java-8-openjdk-amd64'\n",
        "os.environ['SPARK_HOME'] = '/opt/spark'\n",
        "os.environ['SPARK_VERSION'] = '2.4.3'"
      ],
      "execution_count": 0,
      "outputs": []
    },
    {
      "cell_type": "code",
      "metadata": {
        "id": "F6xVWiMvy_cJ",
        "colab_type": "code",
        "colab": {}
      },
      "source": [
        "%%capture\n",
        "\n",
        "!wget -qN https://archive.apache.org/dist/spark/spark-$SPARK_VERSION/spark-$SPARK_VERSION-bin-hadoop$HADOOP_VERSION.tgz\n",
        "!tar -xzf spark-$SPARK_VERSION-bin-hadoop$HADOOP_VERSION.tgz -C /opt\n",
        "!rm spark-$SPARK_VERSION-bin-hadoop$HADOOP_VERSION.tgz\n",
        "!rm -rf /opt/spark\n",
        "!ln -s /opt/spark-$SPARK_VERSION-bin-hadoop$HADOOP_VERSION /opt/spark\n",
        "!pip install -q findspark"
      ],
      "execution_count": 0,
      "outputs": []
    },
    {
      "cell_type": "markdown",
      "metadata": {
        "id": "J13MUPQVtZiF",
        "colab_type": "text"
      },
      "source": [
        "# Create SparkSession"
      ]
    },
    {
      "cell_type": "code",
      "metadata": {
        "id": "Q1Bm1_F32y9B",
        "colab_type": "code",
        "colab": {}
      },
      "source": [
        "import findspark\n",
        "\n",
        "findspark.init()"
      ],
      "execution_count": 0,
      "outputs": []
    },
    {
      "cell_type": "code",
      "metadata": {
        "id": "FvrAOXX10VgF",
        "colab_type": "code",
        "colab": {}
      },
      "source": [
        "from pyspark.sql import SparkSession\n",
        "\n",
        "spark = SparkSession.builder.master('local[*]').getOrCreate()"
      ],
      "execution_count": 0,
      "outputs": []
    },
    {
      "cell_type": "markdown",
      "metadata": {
        "id": "5bvBhFdBdgMM",
        "colab_type": "text"
      },
      "source": [
        "# Read files"
      ]
    },
    {
      "cell_type": "code",
      "metadata": {
        "id": "JrW2OQZJ-WEi",
        "colab_type": "code",
        "colab": {}
      },
      "source": [
        "import json\n",
        "\n",
        "import pyspark.sql.functions as F\n",
        "import pyspark.sql.types as T"
      ],
      "execution_count": 0,
      "outputs": []
    },
    {
      "cell_type": "code",
      "metadata": {
        "id": "hYK_GBJsdfnC",
        "colab_type": "code",
        "colab": {}
      },
      "source": [
        "DATA_PATH = '/content/gdrive/My Drive/dataset/adressa/one_week'"
      ],
      "execution_count": 0,
      "outputs": []
    },
    {
      "cell_type": "code",
      "metadata": {
        "id": "6LJdkCIedp1c",
        "colab_type": "code",
        "colab": {}
      },
      "source": [
        "with open(os.path.join(DATA_PATH, 'schema', 'samples.json')) as file:\n",
        "  sample_schema = T.StructType.fromJson(json.load(file))"
      ],
      "execution_count": 0,
      "outputs": []
    },
    {
      "cell_type": "code",
      "metadata": {
        "id": "aQaYCLRkeD19",
        "colab_type": "code",
        "colab": {}
      },
      "source": [
        "df_sample = spark.read.json(os.path.join(DATA_PATH, 'sample'), schema=sample_schema)"
      ],
      "execution_count": 0,
      "outputs": []
    },
    {
      "cell_type": "markdown",
      "metadata": {
        "id": "HAiMYifmhdFm",
        "colab_type": "text"
      },
      "source": [
        "# Check results"
      ]
    },
    {
      "cell_type": "code",
      "metadata": {
        "id": "JWFoyUu_eSXA",
        "colab_type": "code",
        "outputId": "4f2f6452-b3ee-4d17-c158-02081a129b53",
        "colab": {
          "base_uri": "https://localhost:8080/",
          "height": 459
        }
      },
      "source": [
        "df_sample.show(truncate=False)"
      ],
      "execution_count": 0,
      "outputs": [
        {
          "output_type": "stream",
          "text": [
            "+-------------------------------------------------+----------+----------------------------------------+----------+\n",
            "|userId                                           |time      |newsId                                  |clickLabel|\n",
            "+-------------------------------------------------+----------+----------------------------------------+----------+\n",
            "|cx:0317f1009ed4ba0be5703f93d490915a:1aheiz3vos0sx|1483363834|0d086df067aff22a3852ce26497e61ff621fc383|1         |\n",
            "|cx:0317f1009ed4ba0be5703f93d490915a:1aheiz3vos0sx|1483363834|020541cc5842eb943d87f87e7e44aa68deb35ead|0         |\n",
            "|cx:0317f1009ed4ba0be5703f93d490915a:1aheiz3vos0sx|1483363834|0348fac56fdf144682f5ffa6f6f10591963f9de3|0         |\n",
            "|cx:0317f1009ed4ba0be5703f93d490915a:1aheiz3vos0sx|1483363834|0867dbb33bb90970ae48592057be34246a0124ac|0         |\n",
            "|cx:0317f1009ed4ba0be5703f93d490915a:1aheiz3vos0sx|1483363834|1cabcf81fbf2248cc427811d125079f6172a8e7d|0         |\n",
            "|cx:0317f1009ed4ba0be5703f93d490915a:1aheiz3vos0sx|1483363834|338d849c5c3e0a320d91a2ed2026e43e7c17f8dc|0         |\n",
            "|cx:0317f1009ed4ba0be5703f93d490915a:1aheiz3vos0sx|1483363834|4d4a58ba920e4566c7cb2c2465c38259fc8f8e8f|0         |\n",
            "|cx:0317f1009ed4ba0be5703f93d490915a:1aheiz3vos0sx|1483363834|66f8175bc3d484fee592762988c90d482ff1ef7e|0         |\n",
            "|cx:0317f1009ed4ba0be5703f93d490915a:1aheiz3vos0sx|1483363834|9c0b1545ebca205fd6b2692a086d7e2f057276b9|0         |\n",
            "|cx:0317f1009ed4ba0be5703f93d490915a:1aheiz3vos0sx|1483363834|b8b4db139b17337073128c55bf4e3f1892156dd2|0         |\n",
            "|cx:0317f1009ed4ba0be5703f93d490915a:1aheiz3vos0sx|1483363834|e1880fcf518194280925e98fe35c00dee20599b0|0         |\n",
            "|cx:0317f1009ed4ba0be5703f93d490915a:1aheiz3vos0sx|1483363834|f397ae0d176e3b11bcebfb5624656f05669f3072|0         |\n",
            "|cx:100k4ej7vldna3vtpswu8l65i1:21nt3o6rr01a8      |1483785974|d26dae18a47ee499c4aaca4a9b6017f1b5b1da13|1         |\n",
            "|cx:100k4ej7vldna3vtpswu8l65i1:21nt3o6rr01a8      |1483785974|11a346e3f2bc15b72ebfd86fb10aa2afb1b2297f|0         |\n",
            "|cx:100k4ej7vldna3vtpswu8l65i1:21nt3o6rr01a8      |1483785974|2d2b9650c8ed56dc4400b89087ca835e5641722e|0         |\n",
            "|cx:100k4ej7vldna3vtpswu8l65i1:21nt3o6rr01a8      |1483785974|36458f493297e9f4a40f983dbb69e604936db27e|0         |\n",
            "|cx:100k4ej7vldna3vtpswu8l65i1:21nt3o6rr01a8      |1483785974|76d9f8f0a809d74332e028fc21ffced448f880a0|0         |\n",
            "|cx:100k4ej7vldna3vtpswu8l65i1:21nt3o6rr01a8      |1483785974|935955483eb5ce55f3d181ff3e16e3d610d15207|0         |\n",
            "|cx:100k4ej7vldna3vtpswu8l65i1:21nt3o6rr01a8      |1483785974|a72ead058717c2420ad01575d1cdee32578a5b2d|0         |\n",
            "|cx:100k4ej7vldna3vtpswu8l65i1:21nt3o6rr01a8      |1483785974|acbfefce3b879863362adae158aa571f3712c598|0         |\n",
            "+-------------------------------------------------+----------+----------------------------------------+----------+\n",
            "only showing top 20 rows\n",
            "\n"
          ],
          "name": "stdout"
        }
      ]
    },
    {
      "cell_type": "markdown",
      "metadata": {
        "id": "oQ-4-7LPTEMi",
        "colab_type": "text"
      },
      "source": [
        "## Number of samples"
      ]
    },
    {
      "cell_type": "code",
      "metadata": {
        "id": "Koey2GahTFgK",
        "colab_type": "code",
        "outputId": "7c199282-b4e3-47ee-e20a-b5a6eea82f56",
        "colab": {
          "base_uri": "https://localhost:8080/",
          "height": 34
        }
      },
      "source": [
        "df_sample.count()"
      ],
      "execution_count": 0,
      "outputs": [
        {
          "output_type": "execute_result",
          "data": {
            "text/plain": [
              "14712022"
            ]
          },
          "metadata": {
            "tags": []
          },
          "execution_count": 9
        }
      ]
    },
    {
      "cell_type": "markdown",
      "metadata": {
        "id": "HOUkHmlNIK2F",
        "colab_type": "text"
      },
      "source": [
        "## Number of (`userId`, `time`) pairs"
      ]
    },
    {
      "cell_type": "code",
      "metadata": {
        "id": "HKmuFsjAIBYf",
        "colab_type": "code",
        "outputId": "1554ae75-1126-450a-d054-6db8b54e2977",
        "colab": {
          "base_uri": "https://localhost:8080/",
          "height": 34
        }
      },
      "source": [
        "df_sample.select(F.column('userId'), F.column('time')).distinct().count()"
      ],
      "execution_count": 0,
      "outputs": [
        {
          "output_type": "execute_result",
          "data": {
            "text/plain": [
              "1226167"
            ]
          },
          "metadata": {
            "tags": []
          },
          "execution_count": 11
        }
      ]
    },
    {
      "cell_type": "markdown",
      "metadata": {
        "id": "cDpOgHioIOGv",
        "colab_type": "text"
      },
      "source": [
        "## Number of (`newsId`, `time`) pairs"
      ]
    },
    {
      "cell_type": "code",
      "metadata": {
        "id": "XrKa84hYIUoD",
        "colab_type": "code",
        "outputId": "dbf9bbf7-6c7d-4b3b-cdf9-57a6defb15ac",
        "colab": {
          "base_uri": "https://localhost:8080/",
          "height": 34
        }
      },
      "source": [
        "df_sample.select(F.column('newsId'), F.column('time')).distinct().count()"
      ],
      "execution_count": 0,
      "outputs": [
        {
          "output_type": "execute_result",
          "data": {
            "text/plain": [
              "13631812"
            ]
          },
          "metadata": {
            "tags": []
          },
          "execution_count": 12
        }
      ]
    },
    {
      "cell_type": "markdown",
      "metadata": {
        "id": "bTd33D2QiXqj",
        "colab_type": "text"
      },
      "source": [
        "## Number of click samples"
      ]
    },
    {
      "cell_type": "code",
      "metadata": {
        "id": "yLi2FJ79hn5c",
        "colab_type": "code",
        "outputId": "a9a5e137-4b89-4f99-f3b9-b90275572dd4",
        "colab": {
          "base_uri": "https://localhost:8080/",
          "height": 34
        }
      },
      "source": [
        "n_click_samples = df_sample.filter(F.column('clickLabel') == 1).count()\n",
        "n_click_samples"
      ],
      "execution_count": 0,
      "outputs": [
        {
          "output_type": "execute_result",
          "data": {
            "text/plain": [
              "1226167"
            ]
          },
          "metadata": {
            "tags": []
          },
          "execution_count": 13
        }
      ]
    },
    {
      "cell_type": "markdown",
      "metadata": {
        "id": "dWU4KQBFidOt",
        "colab_type": "text"
      },
      "source": [
        "## Number of no-click samples"
      ]
    },
    {
      "cell_type": "code",
      "metadata": {
        "id": "J5ZKp1UCw0hp",
        "colab_type": "code",
        "outputId": "41a43c40-37f2-4c94-f212-7a0d7bfe9ba3",
        "colab": {
          "base_uri": "https://localhost:8080/",
          "height": 34
        }
      },
      "source": [
        "n_no_click_samples = df_sample.filter(F.column('clickLabel') == 0).count()\n",
        "n_no_click_samples"
      ],
      "execution_count": 0,
      "outputs": [
        {
          "output_type": "execute_result",
          "data": {
            "text/plain": [
              "13485855"
            ]
          },
          "metadata": {
            "tags": []
          },
          "execution_count": 14
        }
      ]
    },
    {
      "cell_type": "markdown",
      "metadata": {
        "id": "lU5CEBOjigC8",
        "colab_type": "text"
      },
      "source": [
        "## No-click / click ratio"
      ]
    },
    {
      "cell_type": "code",
      "metadata": {
        "id": "oYmUDk6Eh8LZ",
        "colab_type": "code",
        "outputId": "8f1a7802-6d18-49cb-bb17-88299f19baff",
        "colab": {
          "base_uri": "https://localhost:8080/",
          "height": 34
        }
      },
      "source": [
        "n_no_click_samples / n_click_samples"
      ],
      "execution_count": 0,
      "outputs": [
        {
          "output_type": "execute_result",
          "data": {
            "text/plain": [
              "10.998383580703118"
            ]
          },
          "metadata": {
            "tags": []
          },
          "execution_count": 15
        }
      ]
    },
    {
      "cell_type": "markdown",
      "metadata": {
        "id": "IBu4dvMpis-Q",
        "colab_type": "text"
      },
      "source": [
        "## Disk usage"
      ]
    },
    {
      "cell_type": "code",
      "metadata": {
        "id": "nrvCrZ2990Ep",
        "colab_type": "code",
        "outputId": "34ea3649-f95c-4973-bd73-752591266bae",
        "colab": {
          "base_uri": "https://localhost:8080/",
          "height": 34
        }
      },
      "source": [
        "!du -sh /content/gdrive/My\\ Drive/dataset/adressa/one_week/samples"
      ],
      "execution_count": 3,
      "outputs": [
        {
          "output_type": "stream",
          "text": [
            "1.9G\t/content/gdrive/My Drive/dataset/adressa/one_week/samples\n"
          ],
          "name": "stdout"
        }
      ]
    }
  ]
}