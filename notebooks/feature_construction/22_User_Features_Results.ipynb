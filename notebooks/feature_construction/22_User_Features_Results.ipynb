{
  "nbformat": 4,
  "nbformat_minor": 0,
  "metadata": {
    "colab": {
      "name": "2.2. User Features Results.ipynb",
      "version": "0.3.2",
      "provenance": [],
      "collapsed_sections": [],
      "include_colab_link": true
    },
    "kernelspec": {
      "name": "python3",
      "display_name": "Python 3"
    }
  },
  "cells": [
    {
      "cell_type": "markdown",
      "metadata": {
        "id": "view-in-github",
        "colab_type": "text"
      },
      "source": [
        "<a href=\"https://colab.research.google.com/github/lengochai97/thesis/blob/master/notebooks/feature_construction/22_User_Features_Results.ipynb\" target=\"_parent\"><img src=\"https://colab.research.google.com/assets/colab-badge.svg\" alt=\"Open In Colab\"/></a>"
      ]
    },
    {
      "cell_type": "markdown",
      "metadata": {
        "id": "x0S-b63NesNq",
        "colab_type": "text"
      },
      "source": [
        "# Connect to Google Drive"
      ]
    },
    {
      "cell_type": "code",
      "metadata": {
        "id": "mA8N4fsj8cY3",
        "colab_type": "code",
        "colab": {}
      },
      "source": [
        "%%capture\n",
        "\n",
        "import google.colab.drive\n",
        "\n",
        "google.colab.drive.mount('/content/gdrive', force_remount=True)"
      ],
      "execution_count": 0,
      "outputs": []
    },
    {
      "cell_type": "markdown",
      "metadata": {
        "id": "xR1ujuEeedLa",
        "colab_type": "text"
      },
      "source": [
        "# Install Spark and dependencies"
      ]
    },
    {
      "cell_type": "code",
      "metadata": {
        "id": "MzDLzKhZkCIf",
        "colab_type": "code",
        "colab": {}
      },
      "source": [
        "import os\n",
        "\n",
        "os.environ['HADOOP_VERSION'] = '2.7'\n",
        "os.environ['JAVA_HOME'] = '/usr/lib/jvm/java-8-openjdk-amd64'\n",
        "os.environ['SPARK_HOME'] = '/opt/spark'\n",
        "os.environ['SPARK_VERSION'] = '2.4.3'"
      ],
      "execution_count": 0,
      "outputs": []
    },
    {
      "cell_type": "code",
      "metadata": {
        "id": "F6xVWiMvy_cJ",
        "colab_type": "code",
        "colab": {}
      },
      "source": [
        "%%capture\n",
        "\n",
        "!wget -qN https://archive.apache.org/dist/spark/spark-$SPARK_VERSION/spark-$SPARK_VERSION-bin-hadoop$HADOOP_VERSION.tgz\n",
        "!tar -xzf spark-$SPARK_VERSION-bin-hadoop$HADOOP_VERSION.tgz -C /opt\n",
        "!rm spark-$SPARK_VERSION-bin-hadoop$HADOOP_VERSION.tgz\n",
        "!rm -rf /opt/spark\n",
        "!ln -s /opt/spark-$SPARK_VERSION-bin-hadoop$HADOOP_VERSION /opt/spark\n",
        "!pip install -q findspark"
      ],
      "execution_count": 0,
      "outputs": []
    },
    {
      "cell_type": "markdown",
      "metadata": {
        "id": "J13MUPQVtZiF",
        "colab_type": "text"
      },
      "source": [
        "# Create SparkSession"
      ]
    },
    {
      "cell_type": "code",
      "metadata": {
        "id": "Q1Bm1_F32y9B",
        "colab_type": "code",
        "colab": {}
      },
      "source": [
        "import findspark\n",
        "\n",
        "findspark.init()"
      ],
      "execution_count": 0,
      "outputs": []
    },
    {
      "cell_type": "code",
      "metadata": {
        "id": "FvrAOXX10VgF",
        "colab_type": "code",
        "colab": {}
      },
      "source": [
        "from pyspark.sql import SparkSession\n",
        "\n",
        "spark = SparkSession.builder.master('local[*]').getOrCreate()"
      ],
      "execution_count": 0,
      "outputs": []
    },
    {
      "cell_type": "markdown",
      "metadata": {
        "id": "5bvBhFdBdgMM",
        "colab_type": "text"
      },
      "source": [
        "# Read files"
      ]
    },
    {
      "cell_type": "code",
      "metadata": {
        "id": "JrW2OQZJ-WEi",
        "colab_type": "code",
        "colab": {}
      },
      "source": [
        "import json\n",
        "\n",
        "import pyspark.sql.functions as F\n",
        "import pyspark.sql.types as T"
      ],
      "execution_count": 0,
      "outputs": []
    },
    {
      "cell_type": "code",
      "metadata": {
        "id": "hYK_GBJsdfnC",
        "colab_type": "code",
        "colab": {}
      },
      "source": [
        "DATA_PATH = '/content/gdrive/My Drive/dataset/adressa/one_week'"
      ],
      "execution_count": 0,
      "outputs": []
    },
    {
      "cell_type": "code",
      "metadata": {
        "id": "6LJdkCIedp1c",
        "colab_type": "code",
        "colab": {}
      },
      "source": [
        "with open(os.path.join(DATA_PATH, 'schema', 'user_features.json')) as file:\n",
        "  user_features_schema = T.StructType.fromJson(json.load(file))"
      ],
      "execution_count": 0,
      "outputs": []
    },
    {
      "cell_type": "code",
      "metadata": {
        "id": "aQaYCLRkeD19",
        "colab_type": "code",
        "colab": {}
      },
      "source": [
        "df_user_features = spark.read.json(os.path.join(DATA_PATH, 'user_features'), schema=user_features_schema)"
      ],
      "execution_count": 0,
      "outputs": []
    },
    {
      "cell_type": "markdown",
      "metadata": {
        "id": "5Pg2QUMcmB-x",
        "colab_type": "text"
      },
      "source": [
        "# Check results"
      ]
    },
    {
      "cell_type": "code",
      "metadata": {
        "id": "JWFoyUu_eSXA",
        "colab_type": "code",
        "outputId": "6915bf2d-50e7-4c91-e45d-db5364a618e4",
        "colab": {
          "base_uri": "https://localhost:8080/",
          "height": 479
        }
      },
      "source": [
        "df_user_features.show(truncate=False)"
      ],
      "execution_count": 0,
      "outputs": [
        {
          "output_type": "stream",
          "text": [
            "+-------------------------------------------+----------+----------------+--------------+----------------+--------------+----------------+--------------+----------------+--------------+-------------------+\n",
            "|userId                                     |time      |userClickCount1H|categoryList1H|userClickCount6H|categoryList6H|userClickCount1D|categoryList1D|userClickCount1W|categoryList1W|categoryListHistory|\n",
            "+-------------------------------------------+----------+----------------+--------------+----------------+--------------+----------------+--------------+----------------+--------------+-------------------+\n",
            "|cx:r6211xeqs9o11vu6nnl81a1lk:3lop4czhr7z5g |1483225867|0               |[]            |0               |[]            |0               |[]            |0               |[]            |[]                 |\n",
            "|cx:38oo4im3dgou42p3yxqoyylf90:3chn0ydngv5vn|1483225995|0               |[]            |0               |[]            |0               |[]            |0               |[]            |[]                 |\n",
            "|cx:iils4rks83578fom:1v5w8yvyjzldg          |1483226745|0               |[]            |0               |[]            |0               |[]            |0               |[]            |[]                 |\n",
            "|cx:3q1z8srq6qs1m2d69xf5mn2qo0:3313avzty8zg5|1483226799|0               |[]            |0               |[]            |0               |[]            |0               |[]            |[]                 |\n",
            "|cx:2wr0nh7ck8bqb18n4kfuc6hjez:2r564hbr4rgaz|1483226848|0               |[]            |0               |[]            |0               |[]            |0               |[]            |[]                 |\n",
            "|cx:2n9moexl0h9fl3egsm4ai9lprx:3tlvsu17k9u0y|1483226897|0               |[]            |0               |[]            |0               |[]            |0               |[]            |[]                 |\n",
            "|cx:27550gp7y4u702yv5e8z3rwcf3:8ljjo8opf46u |1483227120|0               |[]            |0               |[]            |0               |[]            |0               |[]            |[]                 |\n",
            "|cx:3s47wmh6sh0cv2y9s1n8u6j4vj:36kofcjr1jnkq|1483227164|0               |[]            |0               |[]            |0               |[]            |0               |[]            |[]                 |\n",
            "|cx:3vmocj0drxtgshjfleb2160cr:32zb704mx4pz9 |1483227295|0               |[]            |0               |[]            |0               |[]            |0               |[]            |[]                 |\n",
            "|cx:iiniqvh6ufwqt08i:1xawf5v203iqq          |1483227633|0               |[]            |0               |[]            |0               |[]            |0               |[]            |[]                 |\n",
            "|cx:2ceplrsa4b3522rrcwex1i4j67:1cwejymji98q6|1483227876|0               |[]            |0               |[]            |0               |[]            |0               |[]            |[]                 |\n",
            "|cx:2lg0b7bnylt44g22sgoyh0cl:17n86aoidvuub  |1483227990|0               |[]            |0               |[]            |0               |[]            |0               |[]            |[]                 |\n",
            "|cx:imz6e58p3ir7r8rb:21eh2yw06ayt3          |1483228149|0               |[]            |0               |[]            |0               |[]            |0               |[]            |[]                 |\n",
            "|cx:2ocecmgj17pmv2aqpo8px4c2y6:1v0xvspex3kn1|1483228315|0               |[]            |0               |[]            |0               |[]            |0               |[]            |[]                 |\n",
            "|cx:yc0vnbi2j8532epa699hw4ohj:1axyjpo4ksvt9 |1483228479|0               |[]            |0               |[]            |0               |[]            |0               |[]            |[]                 |\n",
            "|cx:i57boiaxdlxhccec:1vhptzggkpr6u          |1483228565|0               |[]            |0               |[]            |0               |[]            |0               |[]            |[]                 |\n",
            "|cx:1371398500117973673608:3cjfcavl2b6ld    |1483228575|0               |[]            |0               |[]            |0               |[]            |0               |[]            |[]                 |\n",
            "|cx:1307983896448139783294:3i53w3gd0t54i    |1483228954|0               |[]            |0               |[]            |0               |[]            |0               |[]            |[]                 |\n",
            "|cx:3knpwpdph9nqc1wnyj8oynyugj:3jfxckfoff93h|1483229000|0               |[]            |0               |[]            |0               |[]            |0               |[]            |[]                 |\n",
            "|cx:3eg6l15gua40c1x0zi4pu2lqvd:2vbuqe9yk8lmn|1483229044|0               |[]            |0               |[]            |0               |[]            |0               |[]            |[]                 |\n",
            "+-------------------------------------------+----------+----------------+--------------+----------------+--------------+----------------+--------------+----------------+--------------+-------------------+\n",
            "only showing top 20 rows\n",
            "\n"
          ],
          "name": "stdout"
        }
      ]
    },
    {
      "cell_type": "markdown",
      "metadata": {
        "id": "dmonEFaRlc3e",
        "colab_type": "text"
      },
      "source": [
        "## Number of events"
      ]
    },
    {
      "cell_type": "code",
      "metadata": {
        "id": "eUZqspuQnm1m",
        "colab_type": "code",
        "outputId": "31067e7b-8978-4f77-a46b-47b81f33d0c9",
        "colab": {
          "base_uri": "https://localhost:8080/",
          "height": 34
        }
      },
      "source": [
        "df_user_features.count()"
      ],
      "execution_count": 0,
      "outputs": [
        {
          "output_type": "execute_result",
          "data": {
            "text/plain": [
              "1226167"
            ]
          },
          "metadata": {
            "tags": []
          },
          "execution_count": 11
        }
      ]
    },
    {
      "cell_type": "code",
      "metadata": {
        "id": "oYYZivFkHLMs",
        "colab_type": "code",
        "outputId": "da7cb5fc-21f4-420d-e2da-30e4cb2e89e8",
        "colab": {
          "base_uri": "https://localhost:8080/",
          "height": 34
        }
      },
      "source": [
        "df_user_features.select(F.column('userId'), F.column('time')).distinct().count()"
      ],
      "execution_count": 0,
      "outputs": [
        {
          "output_type": "execute_result",
          "data": {
            "text/plain": [
              "1226167"
            ]
          },
          "metadata": {
            "tags": []
          },
          "execution_count": 12
        }
      ]
    },
    {
      "cell_type": "markdown",
      "metadata": {
        "id": "gKkwZIoIlo5J",
        "colab_type": "text"
      },
      "source": [
        "## Number of users"
      ]
    },
    {
      "cell_type": "code",
      "metadata": {
        "id": "sy6I_gl9ngmZ",
        "colab_type": "code",
        "outputId": "df8527bf-18ce-4f0e-abbc-26fc63e2e177",
        "colab": {
          "base_uri": "https://localhost:8080/",
          "height": 34
        }
      },
      "source": [
        "df_user_features.select(F.column('userId')).distinct().count()"
      ],
      "execution_count": 0,
      "outputs": [
        {
          "output_type": "execute_result",
          "data": {
            "text/plain": [
              "252196"
            ]
          },
          "metadata": {
            "tags": []
          },
          "execution_count": 13
        }
      ]
    },
    {
      "cell_type": "markdown",
      "metadata": {
        "id": "MUTQWfRUlznG",
        "colab_type": "text"
      },
      "source": [
        "## Disk usage"
      ]
    },
    {
      "cell_type": "code",
      "metadata": {
        "id": "nrvCrZ2990Ep",
        "colab_type": "code",
        "outputId": "6e2e4dce-f9dc-47af-913b-d286ea630f1b",
        "colab": {
          "base_uri": "https://localhost:8080/",
          "height": 34
        }
      },
      "source": [
        "!du -sh /content/gdrive/My\\ Drive/dataset/adressa/one_week/user_features"
      ],
      "execution_count": 2,
      "outputs": [
        {
          "output_type": "stream",
          "text": [
            "564M\t/content/gdrive/My Drive/dataset/adressa/one_week/user_features\n"
          ],
          "name": "stdout"
        }
      ]
    }
  ]
}