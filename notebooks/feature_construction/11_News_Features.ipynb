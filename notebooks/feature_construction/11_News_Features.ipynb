{
  "nbformat": 4,
  "nbformat_minor": 0,
  "metadata": {
    "colab": {
      "name": "1.1. News Features.ipynb",
      "version": "0.3.2",
      "provenance": [],
      "collapsed_sections": [],
      "include_colab_link": true
    },
    "kernelspec": {
      "name": "python3",
      "display_name": "Python 3"
    }
  },
  "cells": [
    {
      "cell_type": "markdown",
      "metadata": {
        "id": "view-in-github",
        "colab_type": "text"
      },
      "source": [
        "<a href=\"https://colab.research.google.com/github/lengochai97/thesis/blob/master/notebooks/feature_construction/11_News_Features.ipynb\" target=\"_parent\"><img src=\"https://colab.research.google.com/assets/colab-badge.svg\" alt=\"Open In Colab\"/></a>"
      ]
    },
    {
      "cell_type": "markdown",
      "metadata": {
        "id": "x0S-b63NesNq",
        "colab_type": "text"
      },
      "source": [
        "# Connect to Google Drive"
      ]
    },
    {
      "cell_type": "code",
      "metadata": {
        "id": "mA8N4fsj8cY3",
        "colab_type": "code",
        "colab": {}
      },
      "source": [
        "%%capture\n",
        "\n",
        "import google.colab.drive\n",
        "\n",
        "google.colab.drive.mount('/content/gdrive', force_remount=True)"
      ],
      "execution_count": 0,
      "outputs": []
    },
    {
      "cell_type": "markdown",
      "metadata": {
        "id": "xR1ujuEeedLa",
        "colab_type": "text"
      },
      "source": [
        "# Install Spark and dependencies"
      ]
    },
    {
      "cell_type": "code",
      "metadata": {
        "id": "MzDLzKhZkCIf",
        "colab_type": "code",
        "colab": {}
      },
      "source": [
        "import os\n",
        "\n",
        "os.environ['HADOOP_VERSION'] = '2.7'\n",
        "os.environ['JAVA_HOME'] = '/usr/lib/jvm/java-8-openjdk-amd64'\n",
        "os.environ['SPARK_HOME'] = '/opt/spark'\n",
        "os.environ['SPARK_VERSION'] = '2.4.3'"
      ],
      "execution_count": 0,
      "outputs": []
    },
    {
      "cell_type": "code",
      "metadata": {
        "id": "F6xVWiMvy_cJ",
        "colab_type": "code",
        "colab": {}
      },
      "source": [
        "%%capture\n",
        "\n",
        "!wget -qN https://archive.apache.org/dist/spark/spark-$SPARK_VERSION/spark-$SPARK_VERSION-bin-hadoop$HADOOP_VERSION.tgz\n",
        "!tar -xzf spark-$SPARK_VERSION-bin-hadoop$HADOOP_VERSION.tgz -C /opt\n",
        "!rm spark-$SPARK_VERSION-bin-hadoop$HADOOP_VERSION.tgz\n",
        "!rm -rf /opt/spark\n",
        "!ln -s /opt/spark-$SPARK_VERSION-bin-hadoop$HADOOP_VERSION /opt/spark\n",
        "!pip install -q findspark"
      ],
      "execution_count": 0,
      "outputs": []
    },
    {
      "cell_type": "markdown",
      "metadata": {
        "id": "J13MUPQVtZiF",
        "colab_type": "text"
      },
      "source": [
        "# Create SparkSession"
      ]
    },
    {
      "cell_type": "code",
      "metadata": {
        "id": "Q1Bm1_F32y9B",
        "colab_type": "code",
        "colab": {}
      },
      "source": [
        "import findspark\n",
        "\n",
        "findspark.init()"
      ],
      "execution_count": 0,
      "outputs": []
    },
    {
      "cell_type": "code",
      "metadata": {
        "id": "FvrAOXX10VgF",
        "colab_type": "code",
        "colab": {}
      },
      "source": [
        "from pyspark.sql import SparkSession\n",
        "\n",
        "spark = SparkSession.builder.master('local[*]').getOrCreate()"
      ],
      "execution_count": 0,
      "outputs": []
    },
    {
      "cell_type": "markdown",
      "metadata": {
        "id": "DUhOM9tWWaso",
        "colab_type": "text"
      },
      "source": [
        "# Read files"
      ]
    },
    {
      "cell_type": "code",
      "metadata": {
        "id": "_wdLgOhi6asu",
        "colab_type": "code",
        "colab": {}
      },
      "source": [
        "import json\n",
        "\n",
        "import pyspark.sql.functions as F\n",
        "import pyspark.sql.types as T"
      ],
      "execution_count": 0,
      "outputs": []
    },
    {
      "cell_type": "code",
      "metadata": {
        "id": "uk3ED50z81Ys",
        "colab_type": "code",
        "colab": {}
      },
      "source": [
        "DATA_PATH = '/content/gdrive/My Drive/dataset/adressa/one_week'"
      ],
      "execution_count": 0,
      "outputs": []
    },
    {
      "cell_type": "code",
      "metadata": {
        "id": "5mTcpzpF6NV8",
        "colab_type": "code",
        "colab": {}
      },
      "source": [
        "with open(os.path.join(DATA_PATH, 'schema', 'clean.json')) as file:\n",
        "  clean_schema = T.StructType.fromJson(json.load(file))"
      ],
      "execution_count": 0,
      "outputs": []
    },
    {
      "cell_type": "code",
      "metadata": {
        "id": "F9MUVYrlR1Kp",
        "colab_type": "code",
        "outputId": "cfe76221-7eac-489e-d63e-62df350db6dc",
        "colab": {
          "base_uri": "https://localhost:8080/",
          "height": 34
        }
      },
      "source": [
        "df_clean = spark.read.json(os.path.join(DATA_PATH, 'clean'), schema=clean_schema)\n",
        "df_clean.cache()"
      ],
      "execution_count": 10,
      "outputs": [
        {
          "output_type": "execute_result",
          "data": {
            "text/plain": [
              "DataFrame[userId: string, time: bigint, newsId: string, publishtime: bigint, categoryList: array<string>]"
            ]
          },
          "metadata": {
            "tags": []
          },
          "execution_count": 10
        }
      ]
    },
    {
      "cell_type": "markdown",
      "metadata": {
        "id": "RJQWuJ0W-0I2",
        "colab_type": "text"
      },
      "source": [
        "# Construct `category` vocabulary"
      ]
    },
    {
      "cell_type": "code",
      "metadata": {
        "id": "TUwj0bei50aw",
        "colab_type": "code",
        "colab": {}
      },
      "source": [
        "train_test_split_time = 1483743600 # 2017/01/06 23:00:00 UTC"
      ],
      "execution_count": 0,
      "outputs": []
    },
    {
      "cell_type": "code",
      "metadata": {
        "id": "suLjo1oSxsIb",
        "colab_type": "code",
        "outputId": "211dafc7-5e64-4400-c7d3-c801a1efc652",
        "colab": {
          "base_uri": "https://localhost:8080/",
          "height": 459
        }
      },
      "source": [
        "df = (\n",
        "    df_clean\n",
        "    .filter(F.column('time') >= train_test_split_time)\n",
        ")\n",
        "\n",
        "df.show(truncate=False)"
      ],
      "execution_count": 12,
      "outputs": [
        {
          "output_type": "stream",
          "text": [
            "+-------------------------------------------+----------+----------------------------------------+-----------+-----------------------+\n",
            "|userId                                     |time      |newsId                                  |publishtime|categoryList           |\n",
            "+-------------------------------------------+----------+----------------------------------------+-----------+-----------------------+\n",
            "|cx:10aahg3cyumaa128zgcrqm02zi:2gi7mzuwpxq8j|1483802430|01d923a1af0487ccbf9804bea12f49c12727214a|1483797105 |[100sport, fotball]    |\n",
            "|cx:10aahg3cyumaa128zgcrqm02zi:2gi7mzuwpxq8j|1483802488|7e98f8a1a50a409a25831be225e01e261dfe04fc|1483790765 |[100sport, vintersport]|\n",
            "|cx:10aahg3cyumaa128zgcrqm02zi:2gi7mzuwpxq8j|1483826863|7e98f8a1a50a409a25831be225e01e261dfe04fc|1483790765 |[100sport, vintersport]|\n",
            "|cx:113ysgcwozlbw1zxe59kpugoom:2dvot488xvkc0|1483773257|bb8ff8365233ea91dfcdb36fdd84f87fcc33e1a8|1483739512 |[nyheter, sortrondelag]|\n",
            "|cx:113ysgcwozlbw1zxe59kpugoom:2dvot488xvkc0|1483819358|faa8cc5200499acbf0f23f6b8e8f78b2b55d2c60|1483811478 |[]                     |\n",
            "|cx:11dpvth0gxg892ea77hlp3t9i8:324zkk9coorjj|1483811218|4d44e61d966ed5a2c8b70a95eb9948aa2a10696f|1483806487 |[100sport, vintersport]|\n",
            "|cx:128mgtvbetsl9201unx8ji98up:317hv1knufc2i|1483773932|2eeb20499aff71bbcb7cea59dc0421e24ce2b542|1483770205 |[nyheter, sortrondelag]|\n",
            "|cx:128mgtvbetsl9201unx8ji98up:317hv1knufc2i|1483778827|2eeb20499aff71bbcb7cea59dc0421e24ce2b542|1483770205 |[nyheter, sortrondelag]|\n",
            "|cx:128mgtvbetsl9201unx8ji98up:317hv1knufc2i|1483780683|b424b26f2c8b634087e6799faf1167280913dfee|1483686000 |[]                     |\n",
            "|cx:12a2dehjk6wfn5le862k4wui7:2lxzwx7r6nt00 |1483807633|b75dbf2ac4dd0c710f9f585d01d80f4f063290c8|1483794500 |[nyheter, sortrondelag]|\n",
            "|cx:12daw8vj9uwkf46vn0koofdml:323z54kqrbgfz |1483770440|bb8ff8365233ea91dfcdb36fdd84f87fcc33e1a8|1483739512 |[nyheter, sortrondelag]|\n",
            "|cx:12daw8vj9uwkf46vn0koofdml:323z54kqrbgfz |1483770717|a1955c96fd513e4070f6020c87708587291548d0|1483695801 |[nyheter, okonomi]     |\n",
            "|cx:12daw8vj9uwkf46vn0koofdml:323z54kqrbgfz |1483770916|a1955c96fd513e4070f6020c87708587291548d0|1483695801 |[nyheter, okonomi]     |\n",
            "|cx:12daw8vj9uwkf46vn0koofdml:323z54kqrbgfz |1483798856|5716316e7bddb297ca49a4068b748baa2111ece2|1483782043 |[]                     |\n",
            "|cx:12hl6f9eki8ryee4n4ot2y4ek:x6kacw6f11gf  |1483824528|f944a28a2056baf1a530958f4608945b897b4bb6|1483814512 |[100sport, fotball]    |\n",
            "|cx:12j9axyjc0acm2hti7tsfkx8xy:3e4xjjhhahtr5|1483778097|edaf65a0efb194558013257b1c1e9ad2d07bfc53|1483729856 |[nyheter, utenriks]    |\n",
            "|cx:12j9axyjc0acm2hti7tsfkx8xy:3e4xjjhhahtr5|1483782694|edaf65a0efb194558013257b1c1e9ad2d07bfc53|1483729856 |[nyheter, utenriks]    |\n",
            "|cx:12j9axyjc0acm2hti7tsfkx8xy:3e4xjjhhahtr5|1483795194|d26dae18a47ee499c4aaca4a9b6017f1b5b1da13|1483784534 |[nyheter, sortrondelag]|\n",
            "|cx:13116936243011696666464:3oj8ojohoeksq   |1483777061|b424b26f2c8b634087e6799faf1167280913dfee|1483686000 |[]                     |\n",
            "|cx:13116936243011696666464:3oj8ojohoeksq   |1483787438|c065a4298b0dc55060e4dc6cf62b9467216d42d0|1483651601 |[nyheter, sortrondelag]|\n",
            "+-------------------------------------------+----------+----------------------------------------+-----------+-----------------------+\n",
            "only showing top 20 rows\n",
            "\n"
          ],
          "name": "stdout"
        }
      ]
    },
    {
      "cell_type": "code",
      "metadata": {
        "id": "Wqc4CDcWx8Dk",
        "colab_type": "code",
        "outputId": "92d7d0c9-8882-4549-ac26-794e4dd16e75",
        "colab": {
          "base_uri": "https://localhost:8080/",
          "height": 34
        }
      },
      "source": [
        "df.count()"
      ],
      "execution_count": 13,
      "outputs": [
        {
          "output_type": "execute_result",
          "data": {
            "text/plain": [
              "149824"
            ]
          },
          "metadata": {
            "tags": []
          },
          "execution_count": 13
        }
      ]
    },
    {
      "cell_type": "code",
      "metadata": {
        "id": "twFn_iAYWoWM",
        "colab_type": "code",
        "colab": {}
      },
      "source": [
        "df_news_train = (\n",
        "    df_clean\n",
        "    .filter(F.column('time') < train_test_split_time)\n",
        "    .select(\n",
        "        F.column('newsId'),\n",
        "        F.column('categoryList'),\n",
        "    )\n",
        "    .dropDuplicates(subset=['newsId'])\n",
        ")"
      ],
      "execution_count": 0,
      "outputs": []
    },
    {
      "cell_type": "code",
      "metadata": {
        "id": "Utv0xd1zYQL2",
        "colab_type": "code",
        "colab": {}
      },
      "source": [
        "from pyspark.ml.feature import CountVectorizer"
      ],
      "execution_count": 0,
      "outputs": []
    },
    {
      "cell_type": "code",
      "metadata": {
        "id": "TDZHR0mOaHOq",
        "colab_type": "code",
        "colab": {
          "base_uri": "https://localhost:8080/",
          "height": 51
        },
        "outputId": "5589bcd2-095b-4a89-cd6a-e8e591e8e568"
      },
      "source": [
        "%%time\n",
        "\n",
        "category_count_vectorizer = (\n",
        "    CountVectorizer(\n",
        "        binary=True,\n",
        "        inputCol='categoryList',\n",
        "        outputCol='categoryVector',\n",
        "    )\n",
        "    .fit(df_news_train)\n",
        ")"
      ],
      "execution_count": 16,
      "outputs": [
        {
          "output_type": "stream",
          "text": [
            "CPU times: user 11.6 ms, sys: 4.34 ms, total: 15.9 ms\n",
            "Wall time: 9.18 s\n"
          ],
          "name": "stdout"
        }
      ]
    },
    {
      "cell_type": "markdown",
      "metadata": {
        "id": "DdquJkAV_VCh",
        "colab_type": "text"
      },
      "source": [
        "# Construct `category` feature vector"
      ]
    },
    {
      "cell_type": "code",
      "metadata": {
        "id": "clYpyNB28EDz",
        "colab_type": "code",
        "colab": {}
      },
      "source": [
        "df_news_features = (\n",
        "    df_clean\n",
        "    .select(\n",
        "        F.column('newsId'),\n",
        "        F.column('publishtime'),\n",
        "        F.column('categoryList'),\n",
        "    )\n",
        "    .dropDuplicates(subset=['newsId'])\n",
        ")\n",
        "\n",
        "df_news_features = category_count_vectorizer.transform(df_news_features)"
      ],
      "execution_count": 0,
      "outputs": []
    },
    {
      "cell_type": "markdown",
      "metadata": {
        "id": "cUNFllO3_laC",
        "colab_type": "text"
      },
      "source": [
        "# Write files"
      ]
    },
    {
      "cell_type": "code",
      "metadata": {
        "id": "MJ-aeL9MU5uy",
        "colab_type": "code",
        "colab": {}
      },
      "source": [
        "category_count_vectorizer.save(os.path.join(DATA_PATH, 'model', 'category_count_vectorizer'))"
      ],
      "execution_count": 0,
      "outputs": []
    },
    {
      "cell_type": "code",
      "metadata": {
        "id": "SqrJ5fkUyXPl",
        "colab_type": "code",
        "colab": {
          "base_uri": "https://localhost:8080/",
          "height": 51
        },
        "outputId": "04d3ddfa-1926-4777-86fc-98365f47b1ce"
      },
      "source": [
        "%%time\n",
        "\n",
        "df_news_features = (\n",
        "    df_news_features\n",
        "    .repartition(1)\n",
        "    .sortWithinPartitions(\n",
        "        F.column('publishtime'),\n",
        "        F.column('newsId'),\n",
        "    )\n",
        ")\n",
        "\n",
        "df_news_features.write.json(os.path.join(DATA_PATH, 'news_features'))"
      ],
      "execution_count": 21,
      "outputs": [
        {
          "output_type": "stream",
          "text": [
            "CPU times: user 4.44 ms, sys: 2.48 ms, total: 6.92 ms\n",
            "Wall time: 5.04 s\n"
          ],
          "name": "stdout"
        }
      ]
    },
    {
      "cell_type": "code",
      "metadata": {
        "id": "R4HnUTts6O68",
        "colab_type": "code",
        "colab": {}
      },
      "source": [
        "with open(os.path.join(DATA_PATH, 'schema', 'news_features.json'), 'w+') as file:\n",
        "  json.dump(df_news_features.schema.jsonValue(), file)"
      ],
      "execution_count": 0,
      "outputs": []
    }
  ]
}