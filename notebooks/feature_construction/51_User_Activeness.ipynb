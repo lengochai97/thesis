{
  "nbformat": 4,
  "nbformat_minor": 0,
  "metadata": {
    "colab": {
      "name": "5.1. User Activeness.ipynb",
      "version": "0.3.2",
      "provenance": [],
      "collapsed_sections": [],
      "include_colab_link": true
    },
    "kernelspec": {
      "name": "python3",
      "display_name": "Python 3"
    }
  },
  "cells": [
    {
      "cell_type": "markdown",
      "metadata": {
        "id": "view-in-github",
        "colab_type": "text"
      },
      "source": [
        "<a href=\"https://colab.research.google.com/github/lengochai97/thesis/blob/master/notebooks/feature_construction/51_User_Activeness.ipynb\" target=\"_parent\"><img src=\"https://colab.research.google.com/assets/colab-badge.svg\" alt=\"Open In Colab\"/></a>"
      ]
    },
    {
      "cell_type": "markdown",
      "metadata": {
        "id": "x0S-b63NesNq",
        "colab_type": "text"
      },
      "source": [
        "# Connect to Google Drive"
      ]
    },
    {
      "cell_type": "code",
      "metadata": {
        "id": "mA8N4fsj8cY3",
        "colab_type": "code",
        "colab": {}
      },
      "source": [
        "%%capture\n",
        "\n",
        "import google.colab.drive\n",
        "\n",
        "google.colab.drive.mount('/content/gdrive', force_remount=True)"
      ],
      "execution_count": 0,
      "outputs": []
    },
    {
      "cell_type": "markdown",
      "metadata": {
        "id": "xR1ujuEeedLa",
        "colab_type": "text"
      },
      "source": [
        "# Install Spark and dependencies"
      ]
    },
    {
      "cell_type": "code",
      "metadata": {
        "id": "MzDLzKhZkCIf",
        "colab_type": "code",
        "colab": {}
      },
      "source": [
        "import os\n",
        "\n",
        "os.environ['HADOOP_VERSION'] = '2.7'\n",
        "os.environ['JAVA_HOME'] = '/usr/lib/jvm/java-8-openjdk-amd64'\n",
        "os.environ['SPARK_HOME'] = '/opt/spark'\n",
        "os.environ['SPARK_VERSION'] = '2.4.3'"
      ],
      "execution_count": 0,
      "outputs": []
    },
    {
      "cell_type": "code",
      "metadata": {
        "id": "F6xVWiMvy_cJ",
        "colab_type": "code",
        "colab": {}
      },
      "source": [
        "%%capture\n",
        "\n",
        "!wget -qN https://archive.apache.org/dist/spark/spark-$SPARK_VERSION/spark-$SPARK_VERSION-bin-hadoop$HADOOP_VERSION.tgz\n",
        "!tar -xzf spark-$SPARK_VERSION-bin-hadoop$HADOOP_VERSION.tgz -C /opt\n",
        "!rm spark-$SPARK_VERSION-bin-hadoop$HADOOP_VERSION.tgz\n",
        "!rm -rf /opt/spark\n",
        "!ln -s /opt/spark-$SPARK_VERSION-bin-hadoop$HADOOP_VERSION /opt/spark\n",
        "!pip install -q findspark"
      ],
      "execution_count": 0,
      "outputs": []
    },
    {
      "cell_type": "markdown",
      "metadata": {
        "id": "J13MUPQVtZiF",
        "colab_type": "text"
      },
      "source": [
        "# Create SparkSession"
      ]
    },
    {
      "cell_type": "code",
      "metadata": {
        "id": "Q1Bm1_F32y9B",
        "colab_type": "code",
        "colab": {}
      },
      "source": [
        "import findspark\n",
        "\n",
        "findspark.init()"
      ],
      "execution_count": 0,
      "outputs": []
    },
    {
      "cell_type": "code",
      "metadata": {
        "id": "FvrAOXX10VgF",
        "colab_type": "code",
        "colab": {}
      },
      "source": [
        "from pyspark.sql import SparkSession\n",
        "\n",
        "spark = SparkSession.builder.master('local[*]').getOrCreate()"
      ],
      "execution_count": 0,
      "outputs": []
    },
    {
      "cell_type": "markdown",
      "metadata": {
        "id": "prqau8VXte6Y",
        "colab_type": "text"
      },
      "source": [
        "# Read files"
      ]
    },
    {
      "cell_type": "code",
      "metadata": {
        "id": "9N01P5dpt7WL",
        "colab_type": "code",
        "colab": {}
      },
      "source": [
        "import json\n",
        "\n",
        "import pyspark.sql.functions as F\n",
        "import pyspark.sql.types as T"
      ],
      "execution_count": 0,
      "outputs": []
    },
    {
      "cell_type": "code",
      "metadata": {
        "id": "FgDTqViztjj-",
        "colab_type": "code",
        "colab": {}
      },
      "source": [
        "DATA_PATH = '/content/gdrive/My Drive/dataset/adressa/one_week'"
      ],
      "execution_count": 0,
      "outputs": []
    },
    {
      "cell_type": "code",
      "metadata": {
        "id": "KEMZnRVZsroz",
        "colab_type": "code",
        "colab": {}
      },
      "source": [
        "with open(os.path.join(DATA_PATH, 'schema', 'clean.json')) as file:\n",
        "  clean_schema = T.StructType.fromJson(json.load(file))"
      ],
      "execution_count": 0,
      "outputs": []
    },
    {
      "cell_type": "code",
      "metadata": {
        "id": "QrIGpP2gl_Ta",
        "colab_type": "code",
        "colab": {}
      },
      "source": [
        "df_clean = spark.read.json(os.path.join(DATA_PATH, 'clean'), schema=clean_schema)"
      ],
      "execution_count": 0,
      "outputs": []
    },
    {
      "cell_type": "markdown",
      "metadata": {
        "id": "v3FA1-bmkXGV",
        "colab_type": "text"
      },
      "source": [
        "# Calculate user activeness"
      ]
    },
    {
      "cell_type": "code",
      "metadata": {
        "id": "JmnC3jz_fQks",
        "colab_type": "code",
        "colab": {}
      },
      "source": [
        "from pyspark.sql import Window"
      ],
      "execution_count": 0,
      "outputs": []
    },
    {
      "cell_type": "code",
      "metadata": {
        "id": "JsZW2M9yuE2K",
        "colab_type": "code",
        "colab": {}
      },
      "source": [
        "import math\n",
        "\n",
        "@F.udf(returnType=T.DoubleType())\n",
        "def calculate_user_activeness(time_list):\n",
        "  user_activeness = 0.5\n",
        "  if len(time_list) < 2:\n",
        "    return user_activeness\n",
        "  for i in range(1, len(time_list)):\n",
        "    dt = time_list[i] - time_list[i-1]\n",
        "    st = math.exp(-1.2e-05 * dt)\n",
        "    user_activeness = min(1., user_activeness * st + 0.32)\n",
        "  return user_activeness"
      ],
      "execution_count": 0,
      "outputs": []
    },
    {
      "cell_type": "code",
      "metadata": {
        "id": "cooVaqFxtrTn",
        "colab_type": "code",
        "colab": {}
      },
      "source": [
        "df_user_activeness = (\n",
        "    df_clean\n",
        "    .select(\n",
        "        F.column('userId'),\n",
        "        F.column('time'),\n",
        "    )\n",
        "    .withColumn(\n",
        "        'timeList',\n",
        "        F.collect_list(F.column('time')).over(\n",
        "            Window\n",
        "            .partitionBy('userId')\n",
        "            .orderBy('time')\n",
        "            .rowsBetween(Window.unboundedPreceding, Window.currentRow)\n",
        "        ),\n",
        "    )\n",
        "    .withColumn(\n",
        "        'userActiveness',\n",
        "        calculate_user_activeness(F.column('timeList')),\n",
        "    )\n",
        "    .select(\n",
        "        F.column('userId'),\n",
        "        F.column('time'),\n",
        "        F.column('userActiveness'),\n",
        "    )\n",
        ")"
      ],
      "execution_count": 0,
      "outputs": []
    },
    {
      "cell_type": "markdown",
      "metadata": {
        "id": "Mp6Q8NTtkSiI",
        "colab_type": "text"
      },
      "source": [
        "# Write files"
      ]
    },
    {
      "cell_type": "code",
      "metadata": {
        "id": "qiGHCktyznBO",
        "colab_type": "code",
        "colab": {}
      },
      "source": [
        "df_user_activeness = (\n",
        "    df_user_activeness\n",
        "    .repartition(1)\n",
        "    .sortWithinPartitions(\n",
        "        F.column('time'),\n",
        "        F.column('userId'),\n",
        "    )\n",
        ")"
      ],
      "execution_count": 0,
      "outputs": []
    },
    {
      "cell_type": "code",
      "metadata": {
        "id": "rIohkVXsK2c3",
        "colab_type": "code",
        "outputId": "bff0408d-7ad2-4d92-a28e-b9038d7252e9",
        "colab": {
          "base_uri": "https://localhost:8080/",
          "height": 51
        }
      },
      "source": [
        "%%time\n",
        "\n",
        "df_user_activeness.write.json(os.path.join(DATA_PATH, 'user_activeness'))"
      ],
      "execution_count": 0,
      "outputs": [
        {
          "output_type": "stream",
          "text": [
            "CPU times: user 33 ms, sys: 10.8 ms, total: 43.7 ms\n",
            "Wall time: 1min 15s\n"
          ],
          "name": "stdout"
        }
      ]
    },
    {
      "cell_type": "code",
      "metadata": {
        "id": "gWPFBmMxLE8X",
        "colab_type": "code",
        "colab": {}
      },
      "source": [
        "with open(os.path.join(DATA_PATH, 'schema', 'user_activeness.json'), 'w+') as file:\n",
        "  json.dump(df_user_activeness.schema.jsonValue(), file)"
      ],
      "execution_count": 0,
      "outputs": []
    }
  ]
}