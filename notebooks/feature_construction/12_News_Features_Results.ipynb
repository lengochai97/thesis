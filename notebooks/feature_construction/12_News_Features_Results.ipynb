{
  "nbformat": 4,
  "nbformat_minor": 0,
  "metadata": {
    "colab": {
      "name": "1.2. News Features Results.ipynb",
      "version": "0.3.2",
      "provenance": [],
      "collapsed_sections": [],
      "include_colab_link": true
    },
    "kernelspec": {
      "name": "python3",
      "display_name": "Python 3"
    }
  },
  "cells": [
    {
      "cell_type": "markdown",
      "metadata": {
        "id": "view-in-github",
        "colab_type": "text"
      },
      "source": [
        "<a href=\"https://colab.research.google.com/github/lengochai97/thesis/blob/master/notebooks/feature_construction/12_News_Features_Results.ipynb\" target=\"_parent\"><img src=\"https://colab.research.google.com/assets/colab-badge.svg\" alt=\"Open In Colab\"/></a>"
      ]
    },
    {
      "cell_type": "markdown",
      "metadata": {
        "id": "x0S-b63NesNq",
        "colab_type": "text"
      },
      "source": [
        "# Connect to Google Drive"
      ]
    },
    {
      "cell_type": "code",
      "metadata": {
        "id": "mA8N4fsj8cY3",
        "colab_type": "code",
        "colab": {}
      },
      "source": [
        "%%capture\n",
        "\n",
        "import google.colab.drive\n",
        "\n",
        "google.colab.drive.mount('/content/gdrive', force_remount=True)"
      ],
      "execution_count": 0,
      "outputs": []
    },
    {
      "cell_type": "markdown",
      "metadata": {
        "id": "xR1ujuEeedLa",
        "colab_type": "text"
      },
      "source": [
        "# Install Spark and dependencies"
      ]
    },
    {
      "cell_type": "code",
      "metadata": {
        "id": "MzDLzKhZkCIf",
        "colab_type": "code",
        "colab": {}
      },
      "source": [
        "import os\n",
        "\n",
        "os.environ['HADOOP_VERSION'] = '2.7'\n",
        "os.environ['JAVA_HOME'] = '/usr/lib/jvm/java-8-openjdk-amd64'\n",
        "os.environ['SPARK_HOME'] = '/opt/spark'\n",
        "os.environ['SPARK_VERSION'] = '2.4.3'"
      ],
      "execution_count": 0,
      "outputs": []
    },
    {
      "cell_type": "code",
      "metadata": {
        "id": "F6xVWiMvy_cJ",
        "colab_type": "code",
        "colab": {}
      },
      "source": [
        "%%capture\n",
        "\n",
        "!wget -qN https://archive.apache.org/dist/spark/spark-$SPARK_VERSION/spark-$SPARK_VERSION-bin-hadoop$HADOOP_VERSION.tgz\n",
        "!tar -xzf spark-$SPARK_VERSION-bin-hadoop$HADOOP_VERSION.tgz -C /opt\n",
        "!rm spark-$SPARK_VERSION-bin-hadoop$HADOOP_VERSION.tgz\n",
        "!rm -rf /opt/spark\n",
        "!ln -s /opt/spark-$SPARK_VERSION-bin-hadoop$HADOOP_VERSION /opt/spark\n",
        "!pip install -q findspark"
      ],
      "execution_count": 0,
      "outputs": []
    },
    {
      "cell_type": "markdown",
      "metadata": {
        "id": "J13MUPQVtZiF",
        "colab_type": "text"
      },
      "source": [
        "# Create SparkSession"
      ]
    },
    {
      "cell_type": "code",
      "metadata": {
        "id": "Q1Bm1_F32y9B",
        "colab_type": "code",
        "colab": {}
      },
      "source": [
        "import findspark\n",
        "\n",
        "findspark.init()"
      ],
      "execution_count": 0,
      "outputs": []
    },
    {
      "cell_type": "code",
      "metadata": {
        "id": "FvrAOXX10VgF",
        "colab_type": "code",
        "colab": {}
      },
      "source": [
        "from pyspark.sql import SparkSession\n",
        "\n",
        "spark = SparkSession.builder.master('local[*]').getOrCreate()"
      ],
      "execution_count": 0,
      "outputs": []
    },
    {
      "cell_type": "markdown",
      "metadata": {
        "id": "5bvBhFdBdgMM",
        "colab_type": "text"
      },
      "source": [
        "# Read files"
      ]
    },
    {
      "cell_type": "code",
      "metadata": {
        "id": "JrW2OQZJ-WEi",
        "colab_type": "code",
        "colab": {}
      },
      "source": [
        "import json\n",
        "\n",
        "import pyspark.sql.functions as F\n",
        "import pyspark.sql.types as T"
      ],
      "execution_count": 0,
      "outputs": []
    },
    {
      "cell_type": "code",
      "metadata": {
        "id": "hYK_GBJsdfnC",
        "colab_type": "code",
        "colab": {}
      },
      "source": [
        "DATA_PATH = '/content/gdrive/My Drive/dataset/adressa/one_week'"
      ],
      "execution_count": 0,
      "outputs": []
    },
    {
      "cell_type": "code",
      "metadata": {
        "id": "6LJdkCIedp1c",
        "colab_type": "code",
        "colab": {}
      },
      "source": [
        "with open(os.path.join(DATA_PATH, 'schema', 'news_features.json')) as file:\n",
        "  news_features_schema = T.StructType.fromJson(json.load(file))"
      ],
      "execution_count": 0,
      "outputs": []
    },
    {
      "cell_type": "code",
      "metadata": {
        "id": "T-EooWiYEDGa",
        "colab_type": "code",
        "colab": {}
      },
      "source": [
        "df_news_features = spark.read.json(os.path.join(DATA_PATH, 'news_features'), schema=news_features_schema)"
      ],
      "execution_count": 0,
      "outputs": []
    },
    {
      "cell_type": "markdown",
      "metadata": {
        "id": "fYE8zzY3gwOl",
        "colab_type": "text"
      },
      "source": [
        "# Check results"
      ]
    },
    {
      "cell_type": "code",
      "metadata": {
        "id": "aQaYCLRkeD19",
        "colab_type": "code",
        "outputId": "a8f2eb70-284f-44bc-b7a3-92e4337589f8",
        "colab": {
          "base_uri": "https://localhost:8080/",
          "height": 459
        }
      },
      "source": [
        "df_news_features.show(truncate=False)"
      ],
      "execution_count": 0,
      "outputs": [
        {
          "output_type": "stream",
          "text": [
            "+----------------------------------------+-----------+-----------------------+---------------------+\n",
            "|newsId                                  |publishtime|categoryList           |categoryVector       |\n",
            "+----------------------------------------+-----------+-----------------------+---------------------+\n",
            "|ed39fa29deca0717bc6ff43a099076a6e542a050|1233225890 |[]                     |(30,[2],[1.0])       |\n",
            "|daf0bcd2b4ddab61ce760835fa8a42c01775ef35|1407826736 |[pluss, nyheter]       |(30,[0,1],[1.0,1.0]) |\n",
            "|7c146f6c7357bc08cb019c5f59fd3e13b2690682|1415446217 |[pluss, okonomi]       |(30,[1,7],[1.0,1.0]) |\n",
            "|65d83b9b75b5322281f2970bd3707127df673ee0|1420835007 |[pluss, nyheter]       |(30,[0,1],[1.0,1.0]) |\n",
            "|e07df239f1934efebedf70a4985f9ef66a9fe307|1421269371 |[pluss, nyheter]       |(30,[0,1],[1.0,1.0]) |\n",
            "|814c6262b09fc2865a84e9fbd0eb9873304643f0|1421408924 |[]                     |(30,[2],[1.0])       |\n",
            "|8efad3dcccf799278064c20832ee3766cab2f23d|1422177445 |[nyheter, trondheim]   |(30,[0,3],[1.0,1.0]) |\n",
            "|f83abb0ec4b654b4857d3123467599360735d1b5|1423130807 |[pluss, nyheter]       |(30,[0,1],[1.0,1.0]) |\n",
            "|035bacaf453d3c90228712d9625a4f70d8801fa0|1425848975 |[pluss, nyheter]       |(30,[0,1],[1.0,1.0]) |\n",
            "|f3cbadee116c4e57d09a57fd8ef40b73030cd659|1426332233 |[pluss, nyheter]       |(30,[0,1],[1.0,1.0]) |\n",
            "|192306759eb9d2f0e77b1dc1fe8a5280629eeb66|1433177978 |[]                     |(30,[2],[1.0])       |\n",
            "|84675d7319c2ef9a67c1b4ff25e519cec87b2d5a|1437636957 |[]                     |(30,[2],[1.0])       |\n",
            "|98c108fcad730b750f399e4cbb2679fdd453fedc|1442564713 |[]                     |(30,[2],[1.0])       |\n",
            "|2eecfc65315c89fa7e49dfce081f0ebae387f240|1442610874 |[nyheter, trondheim]   |(30,[0,3],[1.0,1.0]) |\n",
            "|1e89854c99efe9da8e2a5199b9af6a1f510f0ab9|1444715127 |[nyheter, okonomi]     |(30,[0,7],[1.0,1.0]) |\n",
            "|bccd2ba1bcde2e8f94cd862093036a8a40e173db|1444916973 |[nyheter, sortrondelag]|(30,[0,5],[1.0,1.0]) |\n",
            "|56ccf927431832b588ec3e7c51483785722379a6|1444942836 |[nyheter, sortrondelag]|(30,[0,5],[1.0,1.0]) |\n",
            "|9ab1b29249a145e130039eb5288df907dbc5e245|1446628968 |[pluss, nyheter]       |(30,[0,1],[1.0,1.0]) |\n",
            "|c27e0408fd8f7e8faff186e285b00edbd6426623|1450094134 |[pluss, kultur]        |(30,[1,12],[1.0,1.0])|\n",
            "|4abe9be0558892dea3606935d79127b6f3067425|1450522989 |[pluss, magasin]       |(30,[1,13],[1.0,1.0])|\n",
            "+----------------------------------------+-----------+-----------------------+---------------------+\n",
            "only showing top 20 rows\n",
            "\n"
          ],
          "name": "stdout"
        }
      ]
    },
    {
      "cell_type": "markdown",
      "metadata": {
        "id": "Z8FoO8FOhWro",
        "colab_type": "text"
      },
      "source": [
        "## Number of items"
      ]
    },
    {
      "cell_type": "code",
      "metadata": {
        "id": "JWFoyUu_eSXA",
        "colab_type": "code",
        "outputId": "ebeed82a-b08f-4342-c6eb-bd585c9c9e61",
        "colab": {
          "base_uri": "https://localhost:8080/",
          "height": 34
        }
      },
      "source": [
        "df_news_features.count()"
      ],
      "execution_count": 0,
      "outputs": [
        {
          "output_type": "execute_result",
          "data": {
            "text/plain": [
              "1034"
            ]
          },
          "metadata": {
            "tags": []
          },
          "execution_count": 11
        }
      ]
    },
    {
      "cell_type": "code",
      "metadata": {
        "id": "LbLpqfRhFzzH",
        "colab_type": "code",
        "outputId": "ffb2509a-a399-4021-f7de-198132ff96c7",
        "colab": {
          "base_uri": "https://localhost:8080/",
          "height": 34
        }
      },
      "source": [
        "df_news_features.select(F.column('newsId')).distinct().count()"
      ],
      "execution_count": 0,
      "outputs": [
        {
          "output_type": "execute_result",
          "data": {
            "text/plain": [
              "1034"
            ]
          },
          "metadata": {
            "tags": []
          },
          "execution_count": 12
        }
      ]
    },
    {
      "cell_type": "markdown",
      "metadata": {
        "id": "Qe_MghlzhbpH",
        "colab_type": "text"
      },
      "source": [
        "## Disk usage"
      ]
    },
    {
      "cell_type": "code",
      "metadata": {
        "id": "NR-nzISCqV0N",
        "colab_type": "code",
        "outputId": "ec090d61-0346-4b18-d264-c9a0ab79720f",
        "colab": {
          "base_uri": "https://localhost:8080/",
          "height": 34
        }
      },
      "source": [
        "!du -sh /content/gdrive/My\\ Drive/dataset/adressa/one_week/news_features"
      ],
      "execution_count": 0,
      "outputs": [
        {
          "output_type": "stream",
          "text": [
            "195K\t/content/gdrive/My Drive/dataset/adressa/one_week/news_features\n"
          ],
          "name": "stdout"
        }
      ]
    },
    {
      "cell_type": "markdown",
      "metadata": {
        "id": "ab7SIjk6X3Ig",
        "colab_type": "text"
      },
      "source": [
        "## `category` vocabulary"
      ]
    },
    {
      "cell_type": "code",
      "metadata": {
        "id": "6RiJfvcHXcbe",
        "colab_type": "code",
        "colab": {}
      },
      "source": [
        "from pyspark.ml.feature import CountVectorizerModel"
      ],
      "execution_count": 0,
      "outputs": []
    },
    {
      "cell_type": "code",
      "metadata": {
        "id": "SPiBX50fXhvL",
        "colab_type": "code",
        "colab": {}
      },
      "source": [
        "category_count_vectorizer = CountVectorizerModel.load(os.path.join(DATA_PATH, 'model', 'category_count_vectorizer'))"
      ],
      "execution_count": 0,
      "outputs": []
    },
    {
      "cell_type": "code",
      "metadata": {
        "id": "wJ4xKqCeYBHu",
        "colab_type": "code",
        "outputId": "da840d2f-42b9-4fdd-8b81-992788500ebb",
        "colab": {
          "base_uri": "https://localhost:8080/",
          "height": 544
        }
      },
      "source": [
        "print('index\\tvalue')\n",
        "for i, x in enumerate(category_count_vectorizer.vocabulary):\n",
        "  print(f'{i}\\t{x}')"
      ],
      "execution_count": 0,
      "outputs": [
        {
          "output_type": "stream",
          "text": [
            "index\tvalue\n",
            "0\tnyheter\n",
            "1\tpluss\n",
            "2\t\n",
            "3\ttrondheim\n",
            "4\t100sport\n",
            "5\tsortrondelag\n",
            "6\tnordtrondelag\n",
            "7\tokonomi\n",
            "8\tvintersport\n",
            "9\tfotball\n",
            "10\tmeninger\n",
            "11\tinnenriks\n",
            "12\tkultur\n",
            "13\tmagasin\n",
            "14\tutenriks\n",
            "15\tsjakk\n",
            "16\tsprek\n",
            "17\tordetfritt\n",
            "18\tmoreromsdal\n",
            "19\tandreidretter\n",
            "20\tidrettspolitikk\n",
            "21\tmigration catalog\n",
            "22\tballsport\n",
            "23\tmesterskap\n",
            "24\ttema\n",
            "25\tarets tronder\n",
            "26\tforbruker\n",
            "27\tkuriosa\n",
            "28\thjem\n",
            "29\tpolitikk\n"
          ],
          "name": "stdout"
        }
      ]
    }
  ]
}