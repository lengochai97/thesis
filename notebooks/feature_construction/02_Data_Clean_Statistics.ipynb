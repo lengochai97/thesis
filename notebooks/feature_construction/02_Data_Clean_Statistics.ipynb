{
  "nbformat": 4,
  "nbformat_minor": 0,
  "metadata": {
    "colab": {
      "name": "0.2. Data Clean Statistics.ipynb",
      "version": "0.3.2",
      "provenance": [],
      "collapsed_sections": [],
      "include_colab_link": true
    },
    "kernelspec": {
      "name": "python3",
      "display_name": "Python 3"
    }
  },
  "cells": [
    {
      "cell_type": "markdown",
      "metadata": {
        "id": "view-in-github",
        "colab_type": "text"
      },
      "source": [
        "<a href=\"https://colab.research.google.com/github/lengochai97/thesis/blob/master/notebooks/feature_construction/02_Data_Clean_Statistics.ipynb\" target=\"_parent\"><img src=\"https://colab.research.google.com/assets/colab-badge.svg\" alt=\"Open In Colab\"/></a>"
      ]
    },
    {
      "cell_type": "markdown",
      "metadata": {
        "id": "x0S-b63NesNq",
        "colab_type": "text"
      },
      "source": [
        "# Connect to Google Drive"
      ]
    },
    {
      "cell_type": "code",
      "metadata": {
        "id": "mA8N4fsj8cY3",
        "colab_type": "code",
        "colab": {}
      },
      "source": [
        "%%capture\n",
        "\n",
        "import google.colab.drive\n",
        "\n",
        "google.colab.drive.mount('/content/gdrive', force_remount=True)"
      ],
      "execution_count": 0,
      "outputs": []
    },
    {
      "cell_type": "markdown",
      "metadata": {
        "id": "xR1ujuEeedLa",
        "colab_type": "text"
      },
      "source": [
        "# Install Spark and dependencies"
      ]
    },
    {
      "cell_type": "code",
      "metadata": {
        "id": "MzDLzKhZkCIf",
        "colab_type": "code",
        "colab": {}
      },
      "source": [
        "import os\n",
        "\n",
        "os.environ['HADOOP_VERSION'] = '2.7'\n",
        "os.environ['JAVA_HOME'] = '/usr/lib/jvm/java-8-openjdk-amd64'\n",
        "os.environ['SPARK_HOME'] = '/opt/spark'\n",
        "os.environ['SPARK_VERSION'] = '2.4.3'"
      ],
      "execution_count": 0,
      "outputs": []
    },
    {
      "cell_type": "code",
      "metadata": {
        "id": "F6xVWiMvy_cJ",
        "colab_type": "code",
        "colab": {}
      },
      "source": [
        "%%capture\n",
        "\n",
        "!wget -qN https://archive.apache.org/dist/spark/spark-$SPARK_VERSION/spark-$SPARK_VERSION-bin-hadoop$HADOOP_VERSION.tgz\n",
        "!tar -xzf spark-$SPARK_VERSION-bin-hadoop$HADOOP_VERSION.tgz -C /opt\n",
        "!rm spark-$SPARK_VERSION-bin-hadoop$HADOOP_VERSION.tgz\n",
        "!rm -rf /opt/spark\n",
        "!ln -s /opt/spark-$SPARK_VERSION-bin-hadoop$HADOOP_VERSION /opt/spark\n",
        "!pip install -q findspark"
      ],
      "execution_count": 0,
      "outputs": []
    },
    {
      "cell_type": "markdown",
      "metadata": {
        "id": "J13MUPQVtZiF",
        "colab_type": "text"
      },
      "source": [
        "# Create SparkSession"
      ]
    },
    {
      "cell_type": "code",
      "metadata": {
        "id": "Q1Bm1_F32y9B",
        "colab_type": "code",
        "colab": {}
      },
      "source": [
        "import findspark\n",
        "\n",
        "findspark.init()"
      ],
      "execution_count": 0,
      "outputs": []
    },
    {
      "cell_type": "code",
      "metadata": {
        "id": "FvrAOXX10VgF",
        "colab_type": "code",
        "colab": {}
      },
      "source": [
        "from pyspark.sql import SparkSession\n",
        "\n",
        "spark = SparkSession.builder.master('local[*]').getOrCreate()"
      ],
      "execution_count": 0,
      "outputs": []
    },
    {
      "cell_type": "markdown",
      "metadata": {
        "id": "IKApWJ3SYIQ6",
        "colab_type": "text"
      },
      "source": [
        "# Read files"
      ]
    },
    {
      "cell_type": "code",
      "metadata": {
        "id": "Ss51hWT5YLJG",
        "colab_type": "code",
        "colab": {}
      },
      "source": [
        "import json\n",
        "\n",
        "import pyspark.sql.functions as F\n",
        "import pyspark.sql.types as T"
      ],
      "execution_count": 0,
      "outputs": []
    },
    {
      "cell_type": "code",
      "metadata": {
        "id": "XbWO6RhFYJLz",
        "colab_type": "code",
        "colab": {}
      },
      "source": [
        "DATA_PATH = '/content/gdrive/My Drive/dataset/adressa/one_week'"
      ],
      "execution_count": 0,
      "outputs": []
    },
    {
      "cell_type": "code",
      "metadata": {
        "id": "g_HqjzFPYNUC",
        "colab_type": "code",
        "colab": {}
      },
      "source": [
        "with open(os.path.join(DATA_PATH, 'schema', 'clean.json')) as file:\n",
        "  clean_schema = T.StructType.fromJson(json.load(file))"
      ],
      "execution_count": 0,
      "outputs": []
    },
    {
      "cell_type": "code",
      "metadata": {
        "id": "Vg7Xf9K00R0w",
        "colab_type": "code",
        "outputId": "b0ef8d08-00ec-4f0c-ec54-54c7e7b55c9e",
        "colab": {
          "base_uri": "https://localhost:8080/",
          "height": 34
        }
      },
      "source": [
        "df_clean = spark.read.json(os.path.join(DATA_PATH, 'clean'), schema=clean_schema)\n",
        "df_clean.cache()"
      ],
      "execution_count": 0,
      "outputs": [
        {
          "output_type": "execute_result",
          "data": {
            "text/plain": [
              "DataFrame[userId: string, time: bigint, newsId: string, publishtime: bigint, categoryList: array<string>]"
            ]
          },
          "metadata": {
            "tags": []
          },
          "execution_count": 9
        }
      ]
    },
    {
      "cell_type": "markdown",
      "metadata": {
        "id": "SqOWdTHrQdXq",
        "colab_type": "text"
      },
      "source": [
        "# Do some basic statistics"
      ]
    },
    {
      "cell_type": "code",
      "metadata": {
        "id": "xZdySr5sQGvv",
        "colab_type": "code",
        "outputId": "06693948-72d2-470f-e865-c5a0c7bc8fbe",
        "colab": {
          "base_uri": "https://localhost:8080/",
          "height": 459
        }
      },
      "source": [
        "df_clean.show(truncate=False)"
      ],
      "execution_count": 0,
      "outputs": [
        {
          "output_type": "stream",
          "text": [
            "+-------------------------------------------+----------+----------------------------------------+-----------+-----------------------+\n",
            "|userId                                     |time      |newsId                                  |publishtime|categoryList           |\n",
            "+-------------------------------------------+----------+----------------------------------------+-----------+-----------------------+\n",
            "|cx:10aahg3cyumaa128zgcrqm02zi:2gi7mzuwpxq8j|1483386860|cf83d342459ce871e2a8562a91b7dca946e3201a|1483369567 |[nyheter, moreromsdal] |\n",
            "|cx:10aahg3cyumaa128zgcrqm02zi:2gi7mzuwpxq8j|1483802430|01d923a1af0487ccbf9804bea12f49c12727214a|1483797105 |[100sport, fotball]    |\n",
            "|cx:10aahg3cyumaa128zgcrqm02zi:2gi7mzuwpxq8j|1483802488|7e98f8a1a50a409a25831be225e01e261dfe04fc|1483790765 |[100sport, vintersport]|\n",
            "|cx:10aahg3cyumaa128zgcrqm02zi:2gi7mzuwpxq8j|1483826863|7e98f8a1a50a409a25831be225e01e261dfe04fc|1483790765 |[100sport, vintersport]|\n",
            "|cx:10bpet3dluncp1iz2clzlonsd:27z0v4p30cx3n |1483266354|05e4209b296dc7dfc9d4e0c401d79256bcea4cb5|1483200730 |[100sport, sjakk]      |\n",
            "|cx:10bpet3dluncp1iz2clzlonsd:27z0v4p30cx3n |1483377415|cf83d342459ce871e2a8562a91b7dca946e3201a|1483369567 |[nyheter, moreromsdal] |\n",
            "|cx:10bpet3dluncp1iz2clzlonsd:27z0v4p30cx3n |1483431326|300849a183ef001c215bb8714e4a342f287cfae6|1483388164 |[nyheter, trondheim]   |\n",
            "|cx:10bpet3dluncp1iz2clzlonsd:27z0v4p30cx3n |1483431452|b0dd66c574dd6763007314ec243c2c1c0f23294d|1483380000 |[]                     |\n",
            "|cx:10bpet3dluncp1iz2clzlonsd:27z0v4p30cx3n |1483431935|520177dbc2569bf8fe888556339730c36a9a032d|1483370564 |[nyheter, moreromsdal] |\n",
            "|cx:10bpet3dluncp1iz2clzlonsd:27z0v4p30cx3n |1483432017|9fb81a688c453cfe8cbf8131b0cd07f4f275b35f|1483362134 |[100sport, sprek]      |\n",
            "|cx:10bpet3dluncp1iz2clzlonsd:27z0v4p30cx3n |1483549095|98bed4bc92cb7d4329e7ae605dcca2967058df2e|1483536932 |[nyheter, sortrondelag]|\n",
            "|cx:10bpet3dluncp1iz2clzlonsd:27z0v4p30cx3n |1483633516|9e46723d2345780c03ca1325cbaf4abb251c441e|1483622579 |[nyheter, trondheim]   |\n",
            "|cx:10c2dhr3l7ghm1iy2rh4rly41q:2r9lbap1w9g0q|1483337823|197fa137aae522a87d6bd210610bc2c71191d5fa|1483290297 |[nyheter, innenriks]   |\n",
            "|cx:10c2dhr3l7ghm1iy2rh4rly41q:2r9lbap1w9g0q|1483338877|197fa137aae522a87d6bd210610bc2c71191d5fa|1483290297 |[nyheter, innenriks]   |\n",
            "|cx:10c2dhr3l7ghm1iy2rh4rly41q:2r9lbap1w9g0q|1483339043|197fa137aae522a87d6bd210610bc2c71191d5fa|1483290297 |[nyheter, innenriks]   |\n",
            "|cx:10c2dhr3l7ghm1iy2rh4rly41q:2r9lbap1w9g0q|1483339653|ae167d304a4ef49e874389abcba68636b0011f85|1482749801 |[pluss, magasin]       |\n",
            "|cx:10c2dhr3l7ghm1iy2rh4rly41q:2r9lbap1w9g0q|1483372831|cf83d342459ce871e2a8562a91b7dca946e3201a|1483369567 |[nyheter, moreromsdal] |\n",
            "|cx:10c2dhr3l7ghm1iy2rh4rly41q:2r9lbap1w9g0q|1483392887|004edd2345395b2b798b941e8b92ed9c550a749a|1483391977 |[nyheter, okonomi]     |\n",
            "|cx:10c2dhr3l7ghm1iy2rh4rly41q:2r9lbap1w9g0q|1483393025|520177dbc2569bf8fe888556339730c36a9a032d|1483370564 |[nyheter, moreromsdal] |\n",
            "|cx:10c2dhr3l7ghm1iy2rh4rly41q:2r9lbap1w9g0q|1483393104|863851b1615e31d94e2f9f30add8be794561ac90|1483370261 |[pluss, nyheter]       |\n",
            "+-------------------------------------------+----------+----------------------------------------+-----------+-----------------------+\n",
            "only showing top 20 rows\n",
            "\n"
          ],
          "name": "stdout"
        }
      ]
    },
    {
      "cell_type": "markdown",
      "metadata": {
        "id": "Gr-bB468QoqM",
        "colab_type": "text"
      },
      "source": [
        "## Number of events"
      ]
    },
    {
      "cell_type": "code",
      "metadata": {
        "id": "8woan-vTQstE",
        "colab_type": "code",
        "outputId": "e4196a56-2d26-453b-b11e-f0f5c77cb4a3",
        "colab": {
          "base_uri": "https://localhost:8080/",
          "height": 34
        }
      },
      "source": [
        "n_events = df_clean.count()\n",
        "n_events"
      ],
      "execution_count": 0,
      "outputs": [
        {
          "output_type": "execute_result",
          "data": {
            "text/plain": [
              "1226167"
            ]
          },
          "metadata": {
            "tags": []
          },
          "execution_count": 11
        }
      ]
    },
    {
      "cell_type": "markdown",
      "metadata": {
        "id": "QUG1MertQuu5",
        "colab_type": "text"
      },
      "source": [
        "## Number of users"
      ]
    },
    {
      "cell_type": "code",
      "metadata": {
        "id": "er8n7g9oQtvt",
        "colab_type": "code",
        "outputId": "e73a4c64-7cd2-4a71-92c2-2f03d19619a7",
        "colab": {
          "base_uri": "https://localhost:8080/",
          "height": 34
        }
      },
      "source": [
        "n_users = df_clean.select(F.column('userId')).distinct().count()\n",
        "n_users"
      ],
      "execution_count": 0,
      "outputs": [
        {
          "output_type": "execute_result",
          "data": {
            "text/plain": [
              "252196"
            ]
          },
          "metadata": {
            "tags": []
          },
          "execution_count": 12
        }
      ]
    },
    {
      "cell_type": "markdown",
      "metadata": {
        "id": "SSDKkxdNQ4iP",
        "colab_type": "text"
      },
      "source": [
        "## Number of items"
      ]
    },
    {
      "cell_type": "code",
      "metadata": {
        "id": "A2dgM8f5Q3ng",
        "colab_type": "code",
        "outputId": "7f7be5cd-688b-4974-f7fa-37ec5c00c081",
        "colab": {
          "base_uri": "https://localhost:8080/",
          "height": 34
        }
      },
      "source": [
        "n_items = df_clean.select(F.column('newsId')).distinct().count()\n",
        "n_items"
      ],
      "execution_count": 0,
      "outputs": [
        {
          "output_type": "execute_result",
          "data": {
            "text/plain": [
              "1034"
            ]
          },
          "metadata": {
            "tags": []
          },
          "execution_count": 13
        }
      ]
    },
    {
      "cell_type": "markdown",
      "metadata": {
        "id": "j5lYiqrXb03M",
        "colab_type": "text"
      },
      "source": [
        "## Sparsity "
      ]
    },
    {
      "cell_type": "code",
      "metadata": {
        "id": "a_ZoXc_tbswS",
        "colab_type": "code",
        "outputId": "061f5c00-f8de-4c1e-954e-773f6472367b",
        "colab": {
          "base_uri": "https://localhost:8080/",
          "height": 34
        }
      },
      "source": [
        "n_events / (n_users * n_items)"
      ],
      "execution_count": 0,
      "outputs": [
        {
          "output_type": "execute_result",
          "data": {
            "text/plain": [
              "0.0047020894957724236"
            ]
          },
          "metadata": {
            "tags": []
          },
          "execution_count": 14
        }
      ]
    },
    {
      "cell_type": "markdown",
      "metadata": {
        "id": "byIASsGcRNtZ",
        "colab_type": "text"
      },
      "source": [
        "## Disk usage"
      ]
    },
    {
      "cell_type": "code",
      "metadata": {
        "id": "QEMnyCCtQ8QP",
        "colab_type": "code",
        "outputId": "1fe57e05-0693-43b3-a50f-87f0d8c9789e",
        "colab": {
          "base_uri": "https://localhost:8080/",
          "height": 34
        }
      },
      "source": [
        "!du -sh /content/gdrive/My\\ Drive/dataset/adressa/one_week/clean"
      ],
      "execution_count": 5,
      "outputs": [
        {
          "output_type": "stream",
          "text": [
            "218M\t/content/gdrive/My Drive/dataset/adressa/one_week/clean\n"
          ],
          "name": "stdout"
        }
      ]
    },
    {
      "cell_type": "markdown",
      "metadata": {
        "id": "sVCGaEQrR2We",
        "colab_type": "text"
      },
      "source": [
        "## Train and test"
      ]
    },
    {
      "cell_type": "code",
      "metadata": {
        "id": "WrFIrobmR46Q",
        "colab_type": "code",
        "colab": {}
      },
      "source": [
        "train_test_split_time = 1483743600 # 2017/01/06 23:00:00 UTC"
      ],
      "execution_count": 0,
      "outputs": []
    },
    {
      "cell_type": "markdown",
      "metadata": {
        "id": "JFj9uc7ESKAv",
        "colab_type": "text"
      },
      "source": [
        "### Train size"
      ]
    },
    {
      "cell_type": "code",
      "metadata": {
        "id": "qnpDkV3vR5r6",
        "colab_type": "code",
        "outputId": "76680acf-d31d-4957-aac7-71280f427bcd",
        "colab": {
          "base_uri": "https://localhost:8080/",
          "height": 34
        }
      },
      "source": [
        "train_size = df_clean.filter(F.column('time') < train_test_split_time).count()\n",
        "train_size"
      ],
      "execution_count": 0,
      "outputs": [
        {
          "output_type": "execute_result",
          "data": {
            "text/plain": [
              "1076343"
            ]
          },
          "metadata": {
            "tags": []
          },
          "execution_count": 17
        }
      ]
    },
    {
      "cell_type": "markdown",
      "metadata": {
        "id": "Qfwrj2OtSLv0",
        "colab_type": "text"
      },
      "source": [
        "### Test size"
      ]
    },
    {
      "cell_type": "code",
      "metadata": {
        "id": "srwUEh0jSFB4",
        "colab_type": "code",
        "outputId": "064e1323-12d6-4d30-d510-52c12310c958",
        "colab": {
          "base_uri": "https://localhost:8080/",
          "height": 34
        }
      },
      "source": [
        "test_size = df_clean.filter(F.column('time') >= train_test_split_time).count()\n",
        "test_size"
      ],
      "execution_count": 0,
      "outputs": [
        {
          "output_type": "execute_result",
          "data": {
            "text/plain": [
              "149824"
            ]
          },
          "metadata": {
            "tags": []
          },
          "execution_count": 18
        }
      ]
    },
    {
      "cell_type": "markdown",
      "metadata": {
        "id": "GZln-kEiSTC6",
        "colab_type": "text"
      },
      "source": [
        "### Train / test ratio"
      ]
    },
    {
      "cell_type": "code",
      "metadata": {
        "id": "K8P0mobzScrW",
        "colab_type": "code",
        "outputId": "bd0b8539-f761-4c0c-930d-e7e1c9ad0d4e",
        "colab": {
          "base_uri": "https://localhost:8080/",
          "height": 34
        }
      },
      "source": [
        "train_size / test_size"
      ],
      "execution_count": 0,
      "outputs": [
        {
          "output_type": "execute_result",
          "data": {
            "text/plain": [
              "7.184049284493806"
            ]
          },
          "metadata": {
            "tags": []
          },
          "execution_count": 19
        }
      ]
    },
    {
      "cell_type": "markdown",
      "metadata": {
        "id": "RXp-igRNTXd8",
        "colab_type": "text"
      },
      "source": [
        "## Number of clicks"
      ]
    },
    {
      "cell_type": "markdown",
      "metadata": {
        "id": "MEwXkh3oAI2Z",
        "colab_type": "text"
      },
      "source": [
        "### Per user"
      ]
    },
    {
      "cell_type": "code",
      "metadata": {
        "id": "yrYjXoZHSpXN",
        "colab_type": "code",
        "outputId": "e68c2011-d1c9-4e26-d160-01314e32c7e2",
        "colab": {
          "base_uri": "https://localhost:8080/",
          "height": 119
        }
      },
      "source": [
        "(\n",
        "    df_clean\n",
        "    .groupBy('userId')\n",
        "    .count()\n",
        "    .agg(\n",
        "        F.min('count'),\n",
        "        F.max('count'),\n",
        "        F.avg('count'),\n",
        "    )\n",
        ").show(truncate=False)"
      ],
      "execution_count": 0,
      "outputs": [
        {
          "output_type": "stream",
          "text": [
            "+----------+----------+------------------+\n",
            "|min(count)|max(count)|avg(count)        |\n",
            "+----------+----------+------------------+\n",
            "|1         |223       |4.8619605386286855|\n",
            "+----------+----------+------------------+\n",
            "\n"
          ],
          "name": "stdout"
        }
      ]
    },
    {
      "cell_type": "markdown",
      "metadata": {
        "id": "mPLjT-_KX5VY",
        "colab_type": "text"
      },
      "source": [
        "### Per item"
      ]
    },
    {
      "cell_type": "code",
      "metadata": {
        "id": "TpnRLhtYX1cR",
        "colab_type": "code",
        "outputId": "b3db0c87-5f50-4e97-d6d8-76b6d1de7f46",
        "colab": {
          "base_uri": "https://localhost:8080/",
          "height": 119
        }
      },
      "source": [
        "(\n",
        "    df_clean\n",
        "    .groupBy('newsId')\n",
        "    .count()\n",
        "    .agg(\n",
        "        F.min('count'),\n",
        "        F.max('count'),\n",
        "        F.avg('count'),\n",
        "    )\n",
        ").show(truncate=False)"
      ],
      "execution_count": 0,
      "outputs": [
        {
          "output_type": "stream",
          "text": [
            "+----------+----------+-----------------+\n",
            "|min(count)|max(count)|avg(count)       |\n",
            "+----------+----------+-----------------+\n",
            "|1         |43106     |1185.848162475822|\n",
            "+----------+----------+-----------------+\n",
            "\n"
          ],
          "name": "stdout"
        }
      ]
    },
    {
      "cell_type": "markdown",
      "metadata": {
        "id": "2nT27db3ZShf",
        "colab_type": "text"
      },
      "source": [
        "### Per day"
      ]
    },
    {
      "cell_type": "code",
      "metadata": {
        "id": "0e9hd7pbYRss",
        "colab_type": "code",
        "outputId": "b0b94937-9c00-43c6-ae3d-45fc09268413",
        "colab": {
          "base_uri": "https://localhost:8080/",
          "height": 119
        }
      },
      "source": [
        "(\n",
        "    df_clean\n",
        "    .select(F.dayofyear(F.from_unixtime(F.column('time') + 3600)).alias('day'))\n",
        "    .filter(\n",
        "        (F.column('day') > 0) &\n",
        "        (F.column('day') < 8)\n",
        "    )\n",
        "    .groupBy('day')\n",
        "    .count()\n",
        "    .agg(\n",
        "        F.min('count'),\n",
        "        F.max('count'),\n",
        "        F.avg('count'),\n",
        "    )\n",
        ").show(truncate=False)"
      ],
      "execution_count": 0,
      "outputs": [
        {
          "output_type": "stream",
          "text": [
            "+----------+----------+------------------+\n",
            "|min(count)|max(count)|avg(count)        |\n",
            "+----------+----------+------------------+\n",
            "|59856     |233916    |175166.14285714287|\n",
            "+----------+----------+------------------+\n",
            "\n"
          ],
          "name": "stdout"
        }
      ]
    },
    {
      "cell_type": "markdown",
      "metadata": {
        "id": "mmm31jzGbS9k",
        "colab_type": "text"
      },
      "source": [
        "## Number of items published per day"
      ]
    },
    {
      "cell_type": "code",
      "metadata": {
        "id": "JTwBJkUCY9N4",
        "colab_type": "code",
        "outputId": "2e5afcb5-09a5-4ed9-c8a5-a92cfae75738",
        "colab": {
          "base_uri": "https://localhost:8080/",
          "height": 119
        }
      },
      "source": [
        "(\n",
        "    df_clean\n",
        "    .dropDuplicates(subset=['newsId'])\n",
        "    .select(F.dayofyear(F.from_unixtime(F.column('publishtime') + 3600)).alias('day'))\n",
        "    .filter(\n",
        "        (F.column('day') > 0) &\n",
        "        (F.column('day') < 8)\n",
        "    )\n",
        "    .groupBy('day')\n",
        "    .count()\n",
        "    .agg(\n",
        "        F.min('count'),\n",
        "        F.max('count'),\n",
        "        F.avg('count'),\n",
        "    )\n",
        ").show(truncate=False)"
      ],
      "execution_count": 0,
      "outputs": [
        {
          "output_type": "stream",
          "text": [
            "+----------+----------+----------+\n",
            "|min(count)|max(count)|avg(count)|\n",
            "+----------+----------+----------+\n",
            "|37        |69        |55.0      |\n",
            "+----------+----------+----------+\n",
            "\n"
          ],
          "name": "stdout"
        }
      ]
    },
    {
      "cell_type": "markdown",
      "metadata": {
        "id": "H4-MfZqxT1o3",
        "colab_type": "text"
      },
      "source": [
        "## Time between clicks"
      ]
    },
    {
      "cell_type": "code",
      "metadata": {
        "id": "ohtU-BGNT3tM",
        "colab_type": "code",
        "colab": {}
      },
      "source": [
        "from pyspark.sql import Window"
      ],
      "execution_count": 0,
      "outputs": []
    },
    {
      "cell_type": "markdown",
      "metadata": {
        "id": "6Wt5ag70_3g8",
        "colab_type": "text"
      },
      "source": [
        "### Per user"
      ]
    },
    {
      "cell_type": "code",
      "metadata": {
        "id": "FVHwnH_SUB-f",
        "colab_type": "code",
        "outputId": "59b736c1-12ff-44fe-faf8-50f564a313d2",
        "colab": {
          "base_uri": "https://localhost:8080/",
          "height": 119
        }
      },
      "source": [
        "(\n",
        "    df_clean\n",
        "    .withColumn(\n",
        "        'timeLastClick',\n",
        "        F.sum('time').over(\n",
        "            Window\n",
        "            .partitionBy('userId')\n",
        "            .orderBy('time')\n",
        "            .rowsBetween(-1, -1)\n",
        "        )\n",
        "    )\n",
        "    .filter(F.column('timeLastClick').isNotNull())\n",
        "    .withColumn(\n",
        "        'timeFromLastClick',\n",
        "        (F.column('time') - F.column('timeLastClick')),\n",
        "    )\n",
        "    .agg(\n",
        "        F.min('timeFromLastClick'),\n",
        "        F.max('timeFromLastClick'),\n",
        "        F.avg('timeFromLastClick'),\n",
        "    )\n",
        ").show(truncate=False)"
      ],
      "execution_count": 0,
      "outputs": [
        {
          "output_type": "stream",
          "text": [
            "+----------------------+----------------------+----------------------+\n",
            "|min(timeFromLastClick)|max(timeFromLastClick)|avg(timeFromLastClick)|\n",
            "+----------------------+----------------------+----------------------+\n",
            "|1                     |603198                |39673.53356516775     |\n",
            "+----------------------+----------------------+----------------------+\n",
            "\n"
          ],
          "name": "stdout"
        }
      ]
    },
    {
      "cell_type": "markdown",
      "metadata": {
        "id": "6yxvfyXQ_7B_",
        "colab_type": "text"
      },
      "source": [
        "### Per item"
      ]
    },
    {
      "cell_type": "code",
      "metadata": {
        "id": "T_JaUr3Y_yiL",
        "colab_type": "code",
        "outputId": "dc7d67ef-790b-4007-8807-e36e447f82fa",
        "colab": {
          "base_uri": "https://localhost:8080/",
          "height": 119
        }
      },
      "source": [
        "(\n",
        "    df_clean\n",
        "    .withColumn(\n",
        "        'timeLastClick',\n",
        "        F.sum('time').over(\n",
        "            Window\n",
        "            .partitionBy('newsId')\n",
        "            .orderBy('time')\n",
        "            .rowsBetween(-1, -1)\n",
        "        )\n",
        "    )\n",
        "    .filter(F.column('timeLastClick').isNotNull())\n",
        "    .withColumn(\n",
        "        'timeFromLastClick',\n",
        "        (F.column('time') - F.column('timeLastClick')),\n",
        "    )\n",
        "    .agg(\n",
        "        F.min('timeFromLastClick'),\n",
        "        F.max('timeFromLastClick'),\n",
        "        F.avg('timeFromLastClick'),\n",
        "    )\n",
        ").show(truncate=False)"
      ],
      "execution_count": 0,
      "outputs": [
        {
          "output_type": "stream",
          "text": [
            "+----------------------+----------------------+----------------------+\n",
            "|min(timeFromLastClick)|max(timeFromLastClick)|avg(timeFromLastClick)|\n",
            "+----------------------+----------------------+----------------------+\n",
            "|0                     |594142                |137.89515424039675    |\n",
            "+----------------------+----------------------+----------------------+\n",
            "\n"
          ],
          "name": "stdout"
        }
      ]
    }
  ]
}