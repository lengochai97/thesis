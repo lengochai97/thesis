{
  "nbformat": 4,
  "nbformat_minor": 0,
  "metadata": {
    "colab": {
      "name": "4.2. News Click Counts Results.ipynb",
      "version": "0.3.2",
      "provenance": [],
      "collapsed_sections": [],
      "include_colab_link": true
    },
    "kernelspec": {
      "name": "python3",
      "display_name": "Python 3"
    }
  },
  "cells": [
    {
      "cell_type": "markdown",
      "metadata": {
        "id": "view-in-github",
        "colab_type": "text"
      },
      "source": [
        "<a href=\"https://colab.research.google.com/github/lengochai97/thesis/blob/master/notebooks/feature_construction/42_News_Click_Counts_Results.ipynb\" target=\"_parent\"><img src=\"https://colab.research.google.com/assets/colab-badge.svg\" alt=\"Open In Colab\"/></a>"
      ]
    },
    {
      "cell_type": "markdown",
      "metadata": {
        "id": "x0S-b63NesNq",
        "colab_type": "text"
      },
      "source": [
        "# Connect to Google Drive"
      ]
    },
    {
      "cell_type": "code",
      "metadata": {
        "id": "mA8N4fsj8cY3",
        "colab_type": "code",
        "colab": {}
      },
      "source": [
        "%%capture\n",
        "\n",
        "import google.colab.drive\n",
        "\n",
        "google.colab.drive.mount('/content/gdrive', force_remount=True)"
      ],
      "execution_count": 0,
      "outputs": []
    },
    {
      "cell_type": "markdown",
      "metadata": {
        "id": "xR1ujuEeedLa",
        "colab_type": "text"
      },
      "source": [
        "# Install Spark and dependencies"
      ]
    },
    {
      "cell_type": "code",
      "metadata": {
        "id": "MzDLzKhZkCIf",
        "colab_type": "code",
        "colab": {}
      },
      "source": [
        "import os\n",
        "\n",
        "os.environ['HADOOP_VERSION'] = '2.7'\n",
        "os.environ['JAVA_HOME'] = '/usr/lib/jvm/java-8-openjdk-amd64'\n",
        "os.environ['SPARK_HOME'] = '/opt/spark'\n",
        "os.environ['SPARK_VERSION'] = '2.4.3'"
      ],
      "execution_count": 0,
      "outputs": []
    },
    {
      "cell_type": "code",
      "metadata": {
        "id": "F6xVWiMvy_cJ",
        "colab_type": "code",
        "colab": {}
      },
      "source": [
        "%%capture\n",
        "\n",
        "!wget -qN https://archive.apache.org/dist/spark/spark-$SPARK_VERSION/spark-$SPARK_VERSION-bin-hadoop$HADOOP_VERSION.tgz\n",
        "!tar -xzf spark-$SPARK_VERSION-bin-hadoop$HADOOP_VERSION.tgz -C /opt\n",
        "!rm spark-$SPARK_VERSION-bin-hadoop$HADOOP_VERSION.tgz\n",
        "!rm -rf /opt/spark\n",
        "!ln -s /opt/spark-$SPARK_VERSION-bin-hadoop$HADOOP_VERSION /opt/spark\n",
        "!pip install -q findspark"
      ],
      "execution_count": 0,
      "outputs": []
    },
    {
      "cell_type": "markdown",
      "metadata": {
        "id": "J13MUPQVtZiF",
        "colab_type": "text"
      },
      "source": [
        "# Create SparkSession"
      ]
    },
    {
      "cell_type": "code",
      "metadata": {
        "id": "Q1Bm1_F32y9B",
        "colab_type": "code",
        "colab": {}
      },
      "source": [
        "import findspark\n",
        "\n",
        "findspark.init()"
      ],
      "execution_count": 0,
      "outputs": []
    },
    {
      "cell_type": "code",
      "metadata": {
        "id": "FvrAOXX10VgF",
        "colab_type": "code",
        "colab": {}
      },
      "source": [
        "from pyspark.sql import SparkSession\n",
        "\n",
        "spark = SparkSession.builder.master('local[*]').getOrCreate()"
      ],
      "execution_count": 0,
      "outputs": []
    },
    {
      "cell_type": "markdown",
      "metadata": {
        "id": "2bLvSe5Nt5FX",
        "colab_type": "text"
      },
      "source": [
        "# Read files"
      ]
    },
    {
      "cell_type": "code",
      "metadata": {
        "id": "ZUG5bFA3t-M2",
        "colab_type": "code",
        "colab": {}
      },
      "source": [
        "import json\n",
        "\n",
        "import pyspark.sql.functions as F\n",
        "import pyspark.sql.types as T"
      ],
      "execution_count": 0,
      "outputs": []
    },
    {
      "cell_type": "code",
      "metadata": {
        "id": "141y1nsXt4lm",
        "colab_type": "code",
        "colab": {}
      },
      "source": [
        "DATA_PATH = '/content/gdrive/My Drive/dataset/adressa/one_week'"
      ],
      "execution_count": 0,
      "outputs": []
    },
    {
      "cell_type": "code",
      "metadata": {
        "id": "jXLYrGca1P99",
        "colab_type": "code",
        "colab": {}
      },
      "source": [
        "with open(os.path.join(DATA_PATH, 'schema', 'news_click_counts.json')) as file:\n",
        "  news_click_counts_schema = T.StructType.fromJson(json.load(file))"
      ],
      "execution_count": 0,
      "outputs": []
    },
    {
      "cell_type": "code",
      "metadata": {
        "id": "HT5n_HnE1YRz",
        "colab_type": "code",
        "colab": {}
      },
      "source": [
        "df_news_click_counts = spark.read.json(os.path.join(DATA_PATH, 'news_click_counts'), schema=news_click_counts_schema)"
      ],
      "execution_count": 0,
      "outputs": []
    },
    {
      "cell_type": "markdown",
      "metadata": {
        "id": "v2P_h8o1BFms",
        "colab_type": "text"
      },
      "source": [
        "# Check results"
      ]
    },
    {
      "cell_type": "code",
      "metadata": {
        "id": "PWFHsxPNGuv7",
        "colab_type": "code",
        "outputId": "b5627dfa-6f46-4e92-8d53-4b14c00bd5d6",
        "colab": {
          "base_uri": "https://localhost:8080/",
          "height": 459
        }
      },
      "source": [
        "df_news_click_counts.show(truncate=False)"
      ],
      "execution_count": 0,
      "outputs": [
        {
          "output_type": "stream",
          "text": [
            "+----------------------------------------+----------+----------------+----------------+----------------+----------------+\n",
            "|newsId                                  |time      |newsClickCount1H|newsClickCount6H|newsClickCount1D|newsClickCount1W|\n",
            "+----------------------------------------+----------+----------------+----------------+----------------+----------------+\n",
            "|ccd8230aececb03e231403dbba86069bbe45d1bf|1483247867|0               |0               |0               |0               |\n",
            "|ccd8230aececb03e231403dbba86069bbe45d1bf|1483247936|1               |1               |1               |1               |\n",
            "|ccd8230aececb03e231403dbba86069bbe45d1bf|1483248011|1               |1               |1               |1               |\n",
            "|ccd8230aececb03e231403dbba86069bbe45d1bf|1483248047|1               |1               |1               |1               |\n",
            "|ccd8230aececb03e231403dbba86069bbe45d1bf|1483248088|1               |1               |1               |1               |\n",
            "|ccd8230aececb03e231403dbba86069bbe45d1bf|1483248172|1               |1               |1               |1               |\n",
            "|ccd8230aececb03e231403dbba86069bbe45d1bf|1483248183|1               |1               |1               |1               |\n",
            "|ccd8230aececb03e231403dbba86069bbe45d1bf|1483248363|1               |1               |1               |1               |\n",
            "|ccd8230aececb03e231403dbba86069bbe45d1bf|1483248419|1               |1               |1               |1               |\n",
            "|ccd8230aececb03e231403dbba86069bbe45d1bf|1483248463|1               |1               |1               |1               |\n",
            "|ccd8230aececb03e231403dbba86069bbe45d1bf|1483248489|1               |1               |1               |1               |\n",
            "|ccd8230aececb03e231403dbba86069bbe45d1bf|1483248559|1               |1               |1               |1               |\n",
            "|ccd8230aececb03e231403dbba86069bbe45d1bf|1483248579|1               |1               |1               |1               |\n",
            "|ccd8230aececb03e231403dbba86069bbe45d1bf|1483248602|1               |1               |1               |1               |\n",
            "|ccd8230aececb03e231403dbba86069bbe45d1bf|1483248604|1               |1               |1               |1               |\n",
            "|ccd8230aececb03e231403dbba86069bbe45d1bf|1483248645|1               |1               |1               |1               |\n",
            "|ccd8230aececb03e231403dbba86069bbe45d1bf|1483248671|1               |1               |1               |1               |\n",
            "|ccd8230aececb03e231403dbba86069bbe45d1bf|1483248710|1               |1               |1               |1               |\n",
            "|ccd8230aececb03e231403dbba86069bbe45d1bf|1483248716|1               |1               |1               |1               |\n",
            "|ccd8230aececb03e231403dbba86069bbe45d1bf|1483248792|1               |1               |1               |1               |\n",
            "+----------------------------------------+----------+----------------+----------------+----------------+----------------+\n",
            "only showing top 20 rows\n",
            "\n"
          ],
          "name": "stdout"
        }
      ]
    },
    {
      "cell_type": "markdown",
      "metadata": {
        "id": "lDTYi0o_BIHs",
        "colab_type": "text"
      },
      "source": [
        "## Number of (`newsId`, `time`) pairs"
      ]
    },
    {
      "cell_type": "code",
      "metadata": {
        "id": "IgQAbeD2B1kM",
        "colab_type": "code",
        "outputId": "61f8e8d1-abb3-4abc-fe5f-4b4ea38bbbc4",
        "colab": {
          "base_uri": "https://localhost:8080/",
          "height": 34
        }
      },
      "source": [
        "df_news_click_counts.count()"
      ],
      "execution_count": 0,
      "outputs": [
        {
          "output_type": "execute_result",
          "data": {
            "text/plain": [
              "13630336"
            ]
          },
          "metadata": {
            "tags": []
          },
          "execution_count": 9
        }
      ]
    },
    {
      "cell_type": "code",
      "metadata": {
        "id": "vbfsvDU8yfxc",
        "colab_type": "code",
        "outputId": "25561cdf-1c35-43c6-eb3c-3c9f4a8b4396",
        "colab": {
          "base_uri": "https://localhost:8080/",
          "height": 34
        }
      },
      "source": [
        "df_news_click_counts.select(F.column('newsId'), F.column('time')).distinct().count()"
      ],
      "execution_count": 0,
      "outputs": [
        {
          "output_type": "execute_result",
          "data": {
            "text/plain": [
              "13630336"
            ]
          },
          "metadata": {
            "tags": []
          },
          "execution_count": 10
        }
      ]
    },
    {
      "cell_type": "markdown",
      "metadata": {
        "id": "HoDpry3IBMmO",
        "colab_type": "text"
      },
      "source": [
        "## Number of items"
      ]
    },
    {
      "cell_type": "code",
      "metadata": {
        "id": "suNgikGNA2Fo",
        "colab_type": "code",
        "outputId": "e4a925ff-c400-447c-c77f-774faca2f723",
        "colab": {
          "base_uri": "https://localhost:8080/",
          "height": 34
        }
      },
      "source": [
        "df_news_click_counts.select(F.column('newsId')).distinct().count()"
      ],
      "execution_count": 0,
      "outputs": [
        {
          "output_type": "execute_result",
          "data": {
            "text/plain": [
              "1034"
            ]
          },
          "metadata": {
            "tags": []
          },
          "execution_count": 11
        }
      ]
    },
    {
      "cell_type": "markdown",
      "metadata": {
        "id": "ylIRE6tcBOQi",
        "colab_type": "text"
      },
      "source": [
        "## Disk usage"
      ]
    },
    {
      "cell_type": "code",
      "metadata": {
        "id": "ARlnCZ5geI6u",
        "colab_type": "code",
        "outputId": "407d8ad5-10ca-42c4-c6ce-56da762ea1fa",
        "colab": {
          "base_uri": "https://localhost:8080/",
          "height": 34
        }
      },
      "source": [
        "!du -sh /content/gdrive/My\\ Drive/dataset/adressa/one_week/news_click_counts"
      ],
      "execution_count": 0,
      "outputs": [
        {
          "output_type": "stream",
          "text": [
            "2.1G\t/content/gdrive/My Drive/dataset/adressa/one_week/news_click_counts\n"
          ],
          "name": "stdout"
        }
      ]
    }
  ]
}